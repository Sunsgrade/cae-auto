{
 "cells": [
  {
   "cell_type": "code",
   "execution_count": 1,
   "id": "fdb466ad-936c-4ee9-9003-355f5793725b",
   "metadata": {},
   "outputs": [],
   "source": [
    "import os\n",
    "import sys\n",
    "import comtypes.client"
   ]
  },
  {
   "cell_type": "code",
   "execution_count": 2,
   "id": "180e747a-495c-4b2b-bc50-a4b82ae8f336",
   "metadata": {},
   "outputs": [],
   "source": [
    "# False,表示脚本将启动一个新的sap2000实例，而不是连接已有的。-- False方案好像已失效，以后自动手动打开软件后，用True方案。\n",
    "# AttachToInstance = False\n",
    "AttachToInstance = True"
   ]
  },
  {
   "cell_type": "code",
   "execution_count": 3,
   "id": "3747985b-c40a-4e6f-9241-38106d8ccb94",
   "metadata": {},
   "outputs": [],
   "source": [
    "# True则可以手动指定sap2000的安装路径，False则不会执行安装路径的代码，而会自动打开最新安装的sap2000版本。\n",
    "SpecifyPath = True\n",
    "ProgramPath = r'C:\\Program Files\\Computers and Structures\\SAP2000 22\\SAP2000.exe'"
   ]
  },
  {
   "cell_type": "code",
   "execution_count": 4,
   "id": "65c11074-6e77-45fb-84aa-292a9c420d51",
   "metadata": {},
   "outputs": [],
   "source": [
    "# 设置模型文件的保存路径。\n",
    "APIPath = r'C:\\Users\\Administrator\\Desktop\\SAP'\n",
    "if not os.path.exists(APIPath): # 如果不存在，则创建\n",
    "    try:\n",
    "        os.makedirs(APIPath)\n",
    "    except OSError:\n",
    "        pass\n",
    "# 拼接，os.sep: 操作系统的分隔符（在windows下是 \\\n",
    "ModelPath = APIPath + os.sep + 'API_1-001.sdb'"
   ]
  },
  {
   "cell_type": "code",
   "execution_count": 5,
   "id": "8a020a7a-a126-4334-a49f-b382c5cd0d0e",
   "metadata": {},
   "outputs": [],
   "source": [
    "\n",
    "if AttachToInstance:\n",
    "    #attach to a running instance of SAP2000\n",
    "    # 连接到已打开SAP2000实例\n",
    "    try:\n",
    "        #get the active SapObject\n",
    "        # 尝试获取当前正在运行的SAP2000实例的对象，\"CSI.SAP2000.API.SapObject\"是SAP2000在系统注册表中的COM接口名。\n",
    "        mySapObject = comtypes.client.GetActiveObject(\"CSI.SAP2000.API.SapObject\")\n",
    "    except (OSError, comtypes.COMError):\n",
    "        print(\"No running instance of the program found or failed to attach.\")\n",
    "        sys.exit(-1)\n",
    "else:\n",
    "    #create API helper object\n",
    "    # 创建一个新的实例\n",
    "    # 'SAP2000v22.Helper' SAP2000提供的COM辅助类，用来启动主程序、创建对象等。\n",
    "    helper = comtypes.client.CreateObject('SAP2000v22.Helper')\n",
    "    # 调用QueryInterface将对象转换为具体的cHelper接口，这样才能使用其中定义的方法。\n",
    "    helper = helper.QueryInterface(comtypes.gen.SAP2000v1.cHelper)\n",
    "    if SpecifyPath:\n",
    "        try:\n",
    "            #'create an instance of the SAPObject from the specified path\n",
    "            mySapObject = helper.CreateObject(ProgramPath)\n",
    "        except (OSError, comtypes.COMError):\n",
    "            print(\"Cannot start a new instance of the program from \" + ProgramPath)\n",
    "            sys.exit(-1)\n",
    "    else:\n",
    "        try:\n",
    "            #create an instance of the SAPObject from the latest installed SAP2000\n",
    "            mySapObject = helper.CreateObjectProgID(\"CSI.SAP2000.API.SapObject\")\n",
    "        except (OSError, comtypes.COMError):\n",
    "            print(\"Cannot start a new instance of the program.\")\n",
    "            sys.exit(-1)\n",
    "        #start SAP2000 application\n",
    "        mySapObject.ApplicationStart()\n",
    "\n"
   ]
  },
  {
   "cell_type": "code",
   "execution_count": 6,
   "id": "dafaf5c1-d8c0-487f-8ca9-78cb16712dac",
   "metadata": {},
   "outputs": [],
   "source": [
    "#create SapModel object\n",
    "# 从SAP2000主对象中提取出SapModel，这是所有结构建模操作的核心对象，之后定义节点、杆件、荷载等操作都通过它来进行。\n",
    "SapModel = mySapObject.SapModel\n"
   ]
  },
  {
   "cell_type": "code",
   "execution_count": 7,
   "id": "8fcea05b-cf90-46f7-8ae0-af69427a707e",
   "metadata": {},
   "outputs": [
    {
     "data": {
      "text/plain": [
       "0"
      ]
     },
     "execution_count": 7,
     "metadata": {},
     "output_type": "execute_result"
    }
   ],
   "source": [
    "#initialize model\n",
    "SapModel.InitializeNewModel()"
   ]
  },
  {
   "cell_type": "code",
   "execution_count": 8,
   "id": "20c02a92-6560-4ca8-8805-e4eb70acc3e5",
   "metadata": {},
   "outputs": [],
   "source": [
    "#create new blank model\n",
    "ret = SapModel.File.NewBlank()"
   ]
  },
  {
   "cell_type": "code",
   "execution_count": 9,
   "id": "fd153543-47af-4427-843a-a0cec846f52c",
   "metadata": {},
   "outputs": [],
   "source": [
    "#define material property\n",
    "# 2是SAP2000中混凝土的材料类型编号\n",
    "MATERIAL_CONCRETE = 2\n",
    "ret = SapModel.PropMaterial.SetMaterial('CONC', MATERIAL_CONCRETE)\n",
    "    #assign isotropic mechanical properties to material\n",
    "    # 泊松比，不能超过0.5\n",
    "ret = SapModel.PropMaterial.SetMPIsotropic('CONC', 3600, 0.2, 0.0000055)"
   ]
  },
  {
   "cell_type": "code",
   "execution_count": 10,
   "id": "40ea331e-4b10-4274-b3b2-dfea1e7c6d1e",
   "metadata": {},
   "outputs": [],
   "source": [
    "#define rectangular frame section property\n",
    "# SetRectangle 设置矩形截面 R1:横截面名 12, 12:几何尺寸，高宽 \n",
    "ret = SapModel.PropFrame.SetRectangle('R1', 'CONC', 12, 12)\n",
    "    #define frame section property modifiers\n",
    "# 修正系数\n",
    "ModValue = [1000, 0, 0, 1, 1, 1, 1, 1]\n",
    "ret = SapModel.PropFrame.SetModifiers('R1', ModValue)\n"
   ]
  },
  {
   "cell_type": "code",
   "execution_count": 11,
   "id": "c32f3450-2c2e-4b36-a4b6-a6472d4a7730",
   "metadata": {},
   "outputs": [],
   "source": [
    "#switch to k-ft units\n",
    "kip_ft_F = 4\n",
    "ret = SapModel.SetPresentUnits(kip_ft_F)"
   ]
  },
  {
   "cell_type": "code",
   "execution_count": 12,
   "id": "49e3560e-9cc8-4b93-9991-95d550262e11",
   "metadata": {},
   "outputs": [],
   "source": [
    "#add frame object by coordinates\n",
    "FrameName1 = ' '\n",
    "FrameName2 = ' '\n",
    "FrameName3 = ' '\n",
    "[FrameName1, ret] = SapModel.FrameObj.AddByCoord(0, 0, 0, 0, 0, 10, FrameName1, 'R1', '1', 'Global')\n",
    "[FrameName2, ret] = SapModel.FrameObj.AddByCoord(0, 0, 10, 8, 0, 16, FrameName2, 'R1', '2', 'Global')\n",
    "[FrameName3, ret] = SapModel.FrameObj.AddByCoord(-4, 0, 10, 0, 0, 10, FrameName3, 'R1', '3', 'Global')"
   ]
  },
  {
   "cell_type": "code",
   "execution_count": 13,
   "id": "cc450dad-74b8-459d-be29-e445f6a1fcdb",
   "metadata": {},
   "outputs": [],
   "source": [
    "#assign point object restraint at base\n",
    "PointName1 = ' '\n",
    "PointName2 = ' '\n",
    "Restraint = [True, True, True, True, False, False]\n",
    "[PointName1, PointName2, ret] = SapModel.FrameObj.GetPoints(FrameName1, PointName1, PointName2)\n",
    "ret = SapModel.PointObj.SetRestraint(PointName1, Restraint)"
   ]
  },
  {
   "cell_type": "code",
   "execution_count": 14,
   "id": "c981753f-524c-4270-a139-645c4e37b472",
   "metadata": {},
   "outputs": [],
   "source": [
    "#assign point object restraint at top\n",
    "Restraint = [True, True, False, False, False, False]\n",
    "[PointName1, PointName2, ret] = SapModel.FrameObj.GetPoints(FrameName2, PointName1, PointName2)\n",
    "ret = SapModel.PointObj.SetRestraint(PointName2, Restraint)"
   ]
  },
  {
   "cell_type": "code",
   "execution_count": 15,
   "id": "d7c8ca0b-3c4a-42fb-a312-a6d0cc735623",
   "metadata": {},
   "outputs": [],
   "source": [
    "#refresh view, update (initialize) zoom\n",
    "ret = SapModel.View.RefreshView(0, False)"
   ]
  },
  {
   "cell_type": "code",
   "execution_count": 16,
   "id": "a7a3e863-29b1-42c2-ac19-ab3e59ec9d76",
   "metadata": {},
   "outputs": [],
   "source": [
    "#add load patterns\n",
    "\n",
    "LTYPE_OTHER = 8\n",
    "ret = SapModel.LoadPatterns.Add('1', LTYPE_OTHER, 1, True)\n",
    "ret = SapModel.LoadPatterns.Add('2', LTYPE_OTHER, 0, True)\n",
    "ret = SapModel.LoadPatterns.Add('3', LTYPE_OTHER, 0, True)\n",
    "ret = SapModel.LoadPatterns.Add('4', LTYPE_OTHER, 0, True)\n",
    "ret = SapModel.LoadPatterns.Add('5', LTYPE_OTHER, 0, True)\n",
    "ret = SapModel.LoadPatterns.Add('6', LTYPE_OTHER, 0, True)\n",
    "ret = SapModel.LoadPatterns.Add('7', LTYPE_OTHER, 0, True)"
   ]
  },
  {
   "cell_type": "code",
   "execution_count": 17,
   "id": "d009a45d-5fff-4d00-94d5-ea5240309ec9",
   "metadata": {},
   "outputs": [],
   "source": [
    "#assign loading for load pattern 2\n",
    "\n",
    "[PointName1, PointName2, ret] = SapModel.FrameObj.GetPoints(FrameName3, PointName1, PointName2)\n",
    "PointLoadValue = [0,0,-10,0,0,0]\n",
    "ret = SapModel.PointObj.SetLoadForce(PointName1, '2', PointLoadValue)\n",
    "ret = SapModel.FrameObj.SetLoadDistributed(FrameName3, '2', 1, 10, 0, 1, 1.8, 1.8)\n"
   ]
  },
  {
   "cell_type": "code",
   "execution_count": 18,
   "id": "a8fa953f-9a25-4d7b-a54e-08619b98f070",
   "metadata": {},
   "outputs": [],
   "source": [
    "#assign loading for load pattern 3\n",
    "\n",
    "[PointName1, PointName2, ret] = SapModel.FrameObj.GetPoints(FrameName3, PointName1, PointName2)\n",
    "PointLoadValue = [0,0,-17.2,0,-54.4,0]\n",
    "ret = SapModel.PointObj.SetLoadForce(PointName2, '3', PointLoadValue)"
   ]
  },
  {
   "cell_type": "code",
   "execution_count": 19,
   "id": "19a2702b-ebae-4efa-9f91-a266986c6a25",
   "metadata": {},
   "outputs": [],
   "source": [
    "#assign loading for load pattern 4\n",
    "\n",
    "ret = SapModel.FrameObj.SetLoadDistributed(FrameName2, '4', 1, 11, 0, 1, 2, 2)\n",
    "#assign loading for load pattern 5\n",
    "ret = SapModel.FrameObj.SetLoadDistributed(FrameName1, '5', 1, 2, 0, 1, 2, 2, 'Local')\n",
    "ret = SapModel.FrameObj.SetLoadDistributed(FrameName2, '5', 1, 2, 0, 1, -2, -2, 'Local')\n",
    "#assign loading for load pattern 6\n",
    "ret = SapModel.FrameObj.SetLoadDistributed(FrameName1, '6', 1, 2, 0, 1, 0.9984, 0.3744, 'Local')\n",
    "ret = SapModel.FrameObj.SetLoadDistributed(FrameName2, '6', 1, 2, 0, 1, -0.3744, 0, 'Local')\n",
    "#assign loading for load pattern 7\n",
    "ret = SapModel.FrameObj.SetLoadPoint(FrameName2, '7', 1, 2, 0.5, -15, 'Local')"
   ]
  },
  {
   "cell_type": "code",
   "execution_count": 20,
   "id": "98c879d4-dacd-4afb-88b1-5dfde380983c",
   "metadata": {},
   "outputs": [],
   "source": [
    "#switch to k-in units\n",
    "\n",
    "kip_in_F = 3\n",
    "ret = SapModel.SetPresentUnits(kip_in_F)"
   ]
  },
  {
   "cell_type": "code",
   "execution_count": 21,
   "id": "6f2a8f41-6fe1-46b2-9675-d64d4d2a0435",
   "metadata": {},
   "outputs": [],
   "source": [
    "#save model\n",
    "ret = SapModel.File.Save(ModelPath)"
   ]
  },
  {
   "cell_type": "code",
   "execution_count": 22,
   "id": "1a636387-77a0-4357-9aa1-00f3a89189d2",
   "metadata": {},
   "outputs": [],
   "source": [
    "#run model (this will create the analysis model)\n",
    "ret = SapModel.Analyze.RunAnalysis()"
   ]
  },
  {
   "cell_type": "code",
   "execution_count": 23,
   "id": "f8ad7648-fe80-48f9-834a-839832a9be88",
   "metadata": {},
   "outputs": [],
   "source": [
    "#initialize for Sap2000 results\n",
    "SapResult= [0,0,0,0,0,0,0]\n",
    "[PointName1, PointName2, ret] = SapModel.FrameObj.GetPoints(FrameName2, PointName1, PointName2)"
   ]
  },
  {
   "cell_type": "code",
   "execution_count": 24,
   "id": "4b3727df-f246-4f55-b899-96ab4ea72f20",
   "metadata": {},
   "outputs": [],
   "source": [
    "#get Sap2000 results for load cases 1 through 7\n",
    "\n",
    "for i in range(0,7):\n",
    "      NumberResults = 0\n",
    "      Obj = []\n",
    "      Elm = []\n",
    "      ACase = []\n",
    "      StepType = []\n",
    "      StepNum = []\n",
    "      U1 = []\n",
    "      U2 = []\n",
    "      U3 = []\n",
    "      R1 = []\n",
    "      R2 = []\n",
    "      R3 = []\n",
    "      ObjectElm = 0;\n",
    "      ret = SapModel.Results.Setup.DeselectAllCasesAndCombosForOutput()\n",
    "      ret = SapModel.Results.Setup.SetCaseSelectedForOutput(str(i+1))\n",
    "      if i <= 3:\n",
    "          [NumberResults, Obj, Elm, ACase, StepType, StepNum, U1, U2, U3, R1, R2, R3, ret] = SapModel.Results.JointDispl(PointName2, ObjectElm, NumberResults, Obj, Elm, ACase, StepType, StepNum, U1, U2, U3, R1, R2, R3)\n",
    "          SapResult[i] = U3[0]\n",
    "      else:\n",
    "          [NumberResults, Obj, Elm, ACase, StepType, StepNum, U1, U2, U3, R1, R2, R3, ret] = SapModel.Results.JointDispl(PointName1, ObjectElm, NumberResults, Obj, Elm, ACase, StepType, StepNum, U1, U2, U3, R1, R2, R3)\n",
    "          SapResult[i] = U1[0]"
   ]
  },
  {
   "cell_type": "code",
   "execution_count": 25,
   "id": "577a8bc2-f6a0-41be-9731-1e19091c49aa",
   "metadata": {},
   "outputs": [],
   "source": [
    "#close Sap2000\n",
    "\n",
    "ret = mySapObject.ApplicationExit(False)\n",
    "SapModel = None\n",
    "mySapObject = None"
   ]
  },
  {
   "cell_type": "code",
   "execution_count": 26,
   "id": "f6f90681-17cf-4c84-b6b8-28a03b26a440",
   "metadata": {},
   "outputs": [],
   "source": [
    "#fill independent results\n",
    "\n",
    "IndResult= [0,0,0,0,0,0,0]\n",
    "IndResult[0] = -0.02639\n",
    "IndResult[1] = 0.06296\n",
    "IndResult[2] = 0.06296\n",
    "IndResult[3] = -0.2963\n",
    "IndResult[4] = 0.3125\n",
    "IndResult[5] = 0.11556\n",
    "IndResult[6] = 0.00651"
   ]
  },
  {
   "cell_type": "code",
   "execution_count": 27,
   "id": "d6632de6-ab78-49ac-9791-5f4abd28e342",
   "metadata": {},
   "outputs": [],
   "source": [
    "#fill percent difference\n",
    "\n",
    "PercentDiff = [0,0,0,0,0,0,0]\n",
    "for i in range(0,7):\n",
    "      PercentDiff[i] = (SapResult[i] / IndResult[i]) - 1"
   ]
  },
  {
   "cell_type": "code",
   "execution_count": null,
   "id": "c1eafe73-d712-4199-ae33-3c27b8699cff",
   "metadata": {},
   "outputs": [],
   "source": []
  }
 ],
 "metadata": {
  "kernelspec": {
   "display_name": "Python 3 (ipykernel)",
   "language": "python",
   "name": "python3"
  },
  "language_info": {
   "codemirror_mode": {
    "name": "ipython",
    "version": 3
   },
   "file_extension": ".py",
   "mimetype": "text/x-python",
   "name": "python",
   "nbconvert_exporter": "python",
   "pygments_lexer": "ipython3",
   "version": "3.10.11"
  }
 },
 "nbformat": 4,
 "nbformat_minor": 5
}
