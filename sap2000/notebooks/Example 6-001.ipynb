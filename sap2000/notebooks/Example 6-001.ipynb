{
 "cells": [
  {
   "cell_type": "code",
   "execution_count": 1,
   "id": "1e9c789e-1497-4536-87f6-ab0ede6a6b31",
   "metadata": {},
   "outputs": [],
   "source": [
    "import os\n",
    "import sys\n",
    "import comtypes.client"
   ]
  },
  {
   "cell_type": "code",
   "execution_count": 2,
   "id": "cffd86f2-6caf-41e3-90b5-dc8f9b6fd110",
   "metadata": {},
   "outputs": [],
   "source": [
    "# False,表示脚本将启动一个新的sap2000实例，而不是连接已有的。-- False方案好像已失效，以后自动手动打开软件后，用True方案。\n",
    "# AttachToInstance = False\n",
    "AttachToInstance = True\n",
    "# True则可以手动指定sap2000的安装路径，False则不会执行安装路径的代码，而会自动打开最新安装的sap2000版本。\n",
    "SpecifyPath = True\n",
    "ProgramPath = r'C:\\Program Files\\Computers and Structures\\SAP2000 22\\SAP2000.exe'\n",
    "# 设置模型文件的保存路径。\n",
    "APIPath = r'C:\\Users\\Administrator\\Desktop\\SAP'\n",
    "if not os.path.exists(APIPath): # 如果不存在，则创建\n",
    "    try:\n",
    "        os.makedirs(APIPath)\n",
    "    except OSError:\n",
    "        pass\n",
    "# 拼接，os.sep: 操作系统的分隔符（在windows下是 \\\n",
    "ModelPath = APIPath + os.sep + 'API_6-001.sdb'\n",
    "if AttachToInstance:\n",
    "    #attach to a running instance of SAP2000\n",
    "    # 连接到已打开SAP2000实例\n",
    "    try:\n",
    "        #get the active SapObject\n",
    "        # 尝试获取当前正在运行的SAP2000实例的对象，\"CSI.SAP2000.API.SapObject\"是SAP2000在系统注册表中的COM接口名。\n",
    "        mySapObject = comtypes.client.GetActiveObject(\"CSI.SAP2000.API.SapObject\")\n",
    "    except (OSError, comtypes.COMError):\n",
    "        print(\"No running instance of the program found or failed to attach.\")\n",
    "        sys.exit(-1)\n",
    "else:\n",
    "    #create API helper object\n",
    "    # 创建一个新的实例\n",
    "    # 'SAP2000v22.Helper' SAP2000提供的COM辅助类，用来启动主程序、创建对象等。\n",
    "    helper = comtypes.client.CreateObject('SAP2000v22.Helper')\n",
    "    # 调用QueryInterface将对象转换为具体的cHelper接口，这样才能使用其中定义的方法。\n",
    "    helper = helper.QueryInterface(comtypes.gen.SAP2000v1.cHelper)\n",
    "    if SpecifyPath:\n",
    "        try:\n",
    "            #'create an instance of the SAPObject from the specified path\n",
    "            mySapObject = helper.CreateObject(ProgramPath)\n",
    "        except (OSError, comtypes.COMError):\n",
    "            print(\"Cannot start a new instance of the program from \" + ProgramPath)\n",
    "            sys.exit(-1)\n",
    "    else:\n",
    "        try:\n",
    "            #create an instance of the SAPObject from the latest installed SAP2000\n",
    "            mySapObject = helper.CreateObjectProgID(\"CSI.SAP2000.API.SapObject\")\n",
    "        except (OSError, comtypes.COMError):\n",
    "            print(\"Cannot start a new instance of the program.\")\n",
    "            sys.exit(-1)\n",
    "        #start SAP2000 application\n",
    "        mySapObject.ApplicationStart()\n",
    "\n"
   ]
  },
  {
   "cell_type": "code",
   "execution_count": 19,
   "id": "f6b289d5-52b3-433b-bfb7-fc57f0995299",
   "metadata": {},
   "outputs": [],
   "source": [
    "#create SapModel object\n",
    "# 从SAP2000主对象中提取出SapModel，这是所有结构建模操作的核心对象，之后定义节点、杆件、荷载等操作都通过它来进行。\n",
    "SapModel = mySapObject.SapModel"
   ]
  },
  {
   "cell_type": "code",
   "execution_count": 29,
   "id": "b227ec1c-f0b9-4132-80ef-1d4747ff189d",
   "metadata": {},
   "outputs": [
    {
     "data": {
      "text/plain": [
       "0"
      ]
     },
     "execution_count": 29,
     "metadata": {},
     "output_type": "execute_result"
    }
   ],
   "source": [
    "#initialize model\n",
    "SapModel.InitializeNewModel()"
   ]
  },
  {
   "cell_type": "code",
   "execution_count": 30,
   "id": "69f028dd-8e0c-4c19-946f-29944a9d97ef",
   "metadata": {},
   "outputs": [],
   "source": [
    "#create new blank model\n",
    "ret = SapModel.File.NewBlank()"
   ]
  },
  {
   "cell_type": "code",
   "execution_count": 31,
   "id": "554c372a-5c15-4ff5-bc15-4e7a50ee1418",
   "metadata": {},
   "outputs": [],
   "source": [
    "#switch to k-ft units\n",
    "kip_ft_F = 4\n",
    "ret = SapModel.SetPresentUnits(kip_ft_F)"
   ]
  },
  {
   "cell_type": "code",
   "execution_count": 32,
   "id": "9d885df5-15bd-4216-b33f-e6cd1150e719",
   "metadata": {},
   "outputs": [],
   "source": [
    "#add frame object by coordinates\n",
    "LinkName1 = ' '\n",
    "# 创建link，False是连接两单，否则单点\n",
    "[LinkName1, ret] = SapModel.LinkObj.AddByCoord(0, 0, 0, 0, 0, 10, LinkName1,False, 'R1', '1', 'Global')"
   ]
  },
  {
   "cell_type": "code",
   "execution_count": 35,
   "id": "9c757fca-d6e4-492a-a83d-3cbd1ee2267c",
   "metadata": {},
   "outputs": [],
   "source": [
    "ret = SapModel.View.RefreshView"
   ]
  },
  {
   "cell_type": "code",
   "execution_count": 34,
   "id": "01788e0f-7ac6-407b-9cab-764feb9762f0",
   "metadata": {},
   "outputs": [
    {
     "data": {
      "text/plain": [
       "[(True, True, True, True, True, True), 0]"
      ]
     },
     "execution_count": 34,
     "metadata": {},
     "output_type": "execute_result"
    }
   ],
   "source": [
    "#assign point object restraint at base\n",
    "PointName1 = ' '\n",
    "PointName2 = ' '\n",
    "Restraint = [True, True, True, True, True,True]\n",
    "[PointName1, PointName2, ret] = SapModel.LinkObj.GetPoints(LinkName1, PointName1, PointName2)\n",
    "ret = SapModel.PointObj.SetRestraint(PointName1, Restraint)\n",
    "ret"
   ]
  },
  {
   "cell_type": "code",
   "execution_count": 51,
   "id": "afcf09e0-92de-48b3-bc53-5949ebaddb0b",
   "metadata": {},
   "outputs": [],
   "source": [
    "## 定义线性的Link属性"
   ]
  },
  {
   "cell_type": "code",
   "execution_count": 46,
   "id": "f7b44fc5-b14c-4198-b16e-a4bc0ea7ea47",
   "metadata": {},
   "outputs": [
    {
     "data": {
      "text/plain": [
       "[(True, False, False, False, False, False),\n",
       " (False, False, False, False, False, False),\n",
       " (4.0, 0.0, 0.0, 0.0, 0.0, 0.0),\n",
       " (0.0, 0.0, 0.0, 0.0, 0.0, 0.0),\n",
       " 0]"
      ]
     },
     "execution_count": 46,
     "metadata": {},
     "output_type": "execute_result"
    }
   ],
   "source": [
    "# DOF 自由方向矩阵、Fixed 固定、Ke刚度、Ce阻尼。\n",
    "DOF = [0]*6\n",
    "Fixed = [0]*6\n",
    "Ke = [0]*6\n",
    "Ce = [0]*6\n",
    "\n",
    "DOF[0] = True\n",
    "Ke[0] = 4\n",
    "ret = SapModel.PropLink.SetLinear(\"L1\", DOF, Fixed, Ke, Ce, 0, 0)\n",
    "ret"
   ]
  },
  {
   "cell_type": "code",
   "execution_count": 50,
   "id": "3163a9a5-5219-4667-8b4a-a2141aef45fb",
   "metadata": {},
   "outputs": [
    {
     "data": {
      "text/plain": [
       "0"
      ]
     },
     "execution_count": 50,
     "metadata": {},
     "output_type": "execute_result"
    }
   ],
   "source": [
    "# 线弹簧和面弹簧\n",
    "ret = SapModel.PropLink.SetSpringData(\"L1\", 1, 1)\n",
    "# 总重量和总质量以及转动惯量\n",
    "ret = SapModel.PropLink.SetWeightAndMass(\"L1\",0, 1E-5, 0, 0,0)\n",
    "ret"
   ]
  },
  {
   "cell_type": "code",
   "execution_count": 53,
   "id": "7256ee43-49aa-4814-8242-69b7cb1ece63",
   "metadata": {},
   "outputs": [],
   "source": [
    "# 绑定link属性到link单元\n",
    "ret = SapModel.LinkObj.SetProperty(LinkName1, \"L1\")\n"
   ]
  },
  {
   "cell_type": "code",
   "execution_count": 57,
   "id": "6ab44f1c-8057-44d6-8f9c-74c45bbd704c",
   "metadata": {},
   "outputs": [
    {
     "data": {
      "text/plain": [
       "[(0.0, 0.0, 1.0, 0.0, 0.0, 0.0), 0]"
      ]
     },
     "execution_count": 57,
     "metadata": {},
     "output_type": "execute_result"
    }
   ],
   "source": [
    "# 给节点添加质量\n",
    "mass = [0]*6\n",
    "mass[2] = 1 # u3方向加质量\n",
    "ret = SapModel.PointObj.SetMass(PointName2,mass) # True 覆盖 False 叠加\n",
    "ret"
   ]
  },
  {
   "cell_type": "code",
   "execution_count": 60,
   "id": "3d2f89d1-651f-4d0b-8d6a-33d397765887",
   "metadata": {},
   "outputs": [],
   "source": [
    "# 添加一个工况模式，\n",
    "ret = SapModel.LoadPatterns.Add(\"P\",8)\n"
   ]
  },
  {
   "cell_type": "code",
   "execution_count": 63,
   "id": "4909b5b9-3ca4-4ee1-b404-b215caef4abc",
   "metadata": {},
   "outputs": [
    {
     "data": {
      "text/plain": [
       "[(0.0, 0.0, 8.0, 0.0, 0.0, 0.0), 0]"
      ]
     },
     "execution_count": 63,
     "metadata": {},
     "output_type": "execute_result"
    }
   ],
   "source": [
    "# 给节点添加荷载\n",
    "value = [0]*6\n",
    "value[2]=8\n",
    "ret = SapModel.PointObj.SetLoadForce(PointName2, \"P\", value)\n",
    "ret"
   ]
  },
  {
   "cell_type": "code",
   "execution_count": 64,
   "id": "1440d2e5-cdb4-430f-9951-1f59662a699c",
   "metadata": {},
   "outputs": [
    {
     "data": {
      "text/plain": [
       "0"
      ]
     },
     "execution_count": 64,
     "metadata": {},
     "output_type": "execute_result"
    }
   ],
   "source": [
    "# 定义时程函数\n",
    "ret = SapModel.Func.FuncTH.SetRamp(\"TH-1\", 3.1416, 1, 20)\n",
    "ret = SapModel.Func.FuncTH.SetRamp(\"TH-2\", 1.5708, 1, 20)\n",
    "ret\n"
   ]
  },
  {
   "cell_type": "code",
   "execution_count": 65,
   "id": "07101894-bc81-4153-94e5-36b23a9cf88a",
   "metadata": {},
   "outputs": [
    {
     "data": {
      "text/plain": [
       "0"
      ]
     },
     "execution_count": 65,
     "metadata": {},
     "output_type": "execute_result"
    }
   ],
   "source": [
    "# 模态工况\n",
    "ret = SapModel.LoadCases.ModalEigen.SetCase(\"MODAL\")\n",
    "ret\n"
   ]
  },
  {
   "cell_type": "code",
   "execution_count": 90,
   "id": "df9c2a31-de74-4c13-baef-bf8625355975",
   "metadata": {},
   "outputs": [],
   "source": [
    "# 设置线性的模态时程分析\n",
    "ret = SapModel.LoadCases.ModHistLinear.SetCase(\"MHISTA\")\n",
    "    #设置加载的是哪个模式\n",
    "ret = SapModel.LoadCases.ModHistLinear.SetModalCase(\"MHISTA\", \"MODAL\")\n",
    "\n",
    "# 定义数组参数\n",
    "# 施加荷载\n",
    "numbers_loads = 1 # 一个荷载项\n",
    "MyLoadType = ['LOAD'] # 荷载类型\n",
    "MyLoadName = ['P'] # 荷载模式名\n",
    "MyFunc = ['TH-1']\n",
    "MySF = [1.0] # 比例系数\n",
    "MyTF = [1] # 时间系数\n",
    "MyAT = [0] # 到达时间\n",
    "# 只有当MyLoadType为Accel时才生效\n",
    "MyCSys = [' '] # 空字符串，默认全局坐标\n",
    "MyAng = [0.0] # 加速度方向角\n",
    "\n",
    "ret = SapModel.LoadCases.ModHistLinear.SetLoads(\"MHISTA\", 1, MyLoadType, MyLoadName, MyFunc, MySF, MyTF, MyAT, MyCSys, MyAng)\n",
    "# 时间步\n",
    "ret = SapModel.LoadCases.ModHistLinear.SetTimeStep(\"MHISTA\", 100, 0.1)\n",
    "# 阻尼\n",
    "ret = SapModel.LoadCases.ModHistLinear.SetDampConstant(\"MHISTA\", 0)\n"
   ]
  },
  {
   "cell_type": "code",
   "execution_count": 91,
   "id": "a3d0a81f-eb8b-4456-98c7-d2208df0d27e",
   "metadata": {},
   "outputs": [],
   "source": [
    "# 设置线性的模态时程分析\n",
    "ret = SapModel.LoadCases.ModHistLinear.SetCase(\"MHISTB\")\n",
    "    #设置加载的是哪个模式\n",
    "ret = SapModel.LoadCases.ModHistLinear.SetModalCase(\"MHISTB\", \"MODAL\")\n",
    "\n",
    "# 定义数组参数\n",
    "# 施加荷载\n",
    "numbers_loads = 1 # 一个荷载项\n",
    "MyLoadType = ['LOAD'] # 荷载类型\n",
    "MyLoadName = ['P'] # 荷载模式名\n",
    "MyFunc = ['TH-2']\n",
    "MySF = [1.0] # 比例系数\n",
    "MyTF = [1] # 时间系数\n",
    "MyAT = [0] # 到达时间\n",
    "# 只有当MyLoadType为Accel时才生效\n",
    "MyCSys = [' '] # 空字符串，默认全局坐标\n",
    "MyAng = [0.0] # 加速度方向角\n",
    "\n",
    "ret = SapModel.LoadCases.ModHistLinear.SetLoads(\"MHISTB\", 1, MyLoadType, MyLoadName, MyFunc, MySF, MyTF, MyAT, MyCSys, MyAng)\n",
    "# 时间步\n",
    "ret = SapModel.LoadCases.ModHistLinear.SetTimeStep(\"MHISTB\", 100, 0.1)\n",
    "# 阻尼\n",
    "ret = SapModel.LoadCases.ModHistLinear.SetDampConstant(\"MHISTB\", 0)"
   ]
  },
  {
   "cell_type": "code",
   "execution_count": 92,
   "id": "dfb23310-436f-47bf-a111-0bb2adb617a3",
   "metadata": {},
   "outputs": [],
   "source": [
    "# 设置线性的模态时程分析\n",
    "ret = SapModel.LoadCases.ModHistLinear.SetCase(\"MHISTC\")\n",
    "    #设置加载的是哪个模式\n",
    "ret = SapModel.LoadCases.ModHistLinear.SetModalCase(\"MHISTC\", \"MODAL\")\n",
    "\n",
    "# 定义数组参数\n",
    "# 施加荷载\n",
    "numbers_loads = 1 # 一个荷载项\n",
    "MyLoadType = ['LOAD'] # 荷载类型\n",
    "MyLoadName = ['P'] # 荷载模式名\n",
    "MyFunc = ['TH-2']\n",
    "MySF = [1.0] # 比例系数\n",
    "MyTF = [1] # 时间系数\n",
    "MyAT = [0] # 到达时间\n",
    "# 只有当MyLoadType为Accel时才生效\n",
    "MyCSys = [' '] # 空字符串，默认全局坐标\n",
    "MyAng = [0.0] # 加速度方向角\n",
    "\n",
    "ret = SapModel.LoadCases.ModHistLinear.SetLoads(\"MHISTC\", 1, MyLoadType, MyLoadName, MyFunc, MySF, MyTF, MyAT, MyCSys, MyAng)\n",
    "# 时间步\n",
    "ret = SapModel.LoadCases.ModHistLinear.SetTimeStep(\"MHISTC\", 100, 0.1)\n",
    "# 阻尼\n",
    "ret = SapModel.LoadCases.ModHistLinear.SetDampConstant(\"MHISTC\", 0.999)"
   ]
  },
  {
   "cell_type": "code",
   "execution_count": 104,
   "id": "10c23117-922d-42cc-b0e4-fb5c35e6c692",
   "metadata": {},
   "outputs": [],
   "source": [
    "# 线性直接积分时程分析\n",
    "ret = SapModel.LoadCases.DirHistLinear.SetCase(\"DHISTA1\")\n",
    "# 定义数组参数\n",
    "# 施加荷载\n",
    "numbers_loads = 1 # 一个荷载项\n",
    "MyLoadType = ['LOAD'] # 荷载类型\n",
    "MyLoadName = ['P'] # 荷载模式名\n",
    "MyFunc = ['TH-1']\n",
    "MySF = [1.0] # 比例系数\n",
    "MyTF = [1] # 时间系数\n",
    "MyAT = [0] # 到达时间\n",
    "# 只有当MyLoadType为Accel时才生效\n",
    "MyCSys = [' '] # 空字符串，默认全局坐标\n",
    "MyAng = [0.0] # 加速度方向角\n",
    "\n",
    "ret = SapModel.LoadCases.DirHistLinear.SetLoads(\"DHISTA1\", 1, MyLoadType, MyLoadName, MyFunc, MySF, MyTF, MyAT, MyCSys, MyAng)\n",
    "# 时间步\n",
    "ret = SapModel.LoadCases.DirHistLinear.SetTimeStep(\"DHISTA1\", 40, 0.25)\n",
    "# 阻尼\n"
   ]
  },
  {
   "cell_type": "code",
   "execution_count": 103,
   "id": "9e874caa-a504-4246-808f-48c109aafd13",
   "metadata": {},
   "outputs": [],
   "source": [
    "# 线性直接积分时程分析\n",
    "ret = SapModel.LoadCases.DirHistLinear.SetCase(\"DHISTA2\")\n",
    "# 定义数组参数\n",
    "# 施加荷载\n",
    "numbers_loads = 1 # 一个荷载项\n",
    "MyLoadType = ['LOAD'] # 荷载类型\n",
    "MyLoadName = ['P'] # 荷载模式名\n",
    "MyFunc = ['TH-1']\n",
    "MySF = [1.0] # 比例系数\n",
    "MyTF = [1] # 时间系数\n",
    "MyAT = [0] # 到达时间\n",
    "# 只有当MyLoadType为Accel时才生效\n",
    "MyCSys = [' '] # 空字符串，默认全局坐标\n",
    "MyAng = [0.0] # 加速度方向角\n",
    "\n",
    "ret = SapModel.LoadCases.DirHistLinear.SetLoads(\"DHISTA2\", 1, MyLoadType, MyLoadName, MyFunc, MySF, MyTF, MyAT, MyCSys, MyAng)\n",
    "# 时间步\n",
    "ret = SapModel.LoadCases.DirHistLinear.SetTimeStep(\"DHISTA2\", 4000, 2.5E-3)\n",
    "# 阻尼\n"
   ]
  },
  {
   "cell_type": "code",
   "execution_count": 102,
   "id": "2be6f3ca-5dc7-482f-ade0-f17f77936e34",
   "metadata": {},
   "outputs": [],
   "source": [
    "# 线性直接积分时程分析\n",
    "ret = SapModel.LoadCases.DirHistLinear.SetCase(\"DHISTB1\")\n",
    "# 定义数组参数\n",
    "# 施加荷载\n",
    "numbers_loads = 1 # 一个荷载项\n",
    "MyLoadType = ['LOAD'] # 荷载类型\n",
    "MyLoadName = ['P'] # 荷载模式名\n",
    "MyFunc = ['TH-2']\n",
    "MySF = [1.0] # 比例系数\n",
    "MyTF = [1] # 时间系数\n",
    "MyAT = [0] # 到达时间\n",
    "# 只有当MyLoadType为Accel时才生效\n",
    "MyCSys = [' '] # 空字符串，默认全局坐标\n",
    "MyAng = [0.0] # 加速度方向角\n",
    "\n",
    "ret = SapModel.LoadCases.DirHistLinear.SetLoads(\"DHISTB1\", 1, MyLoadType, MyLoadName, MyFunc, MySF, MyTF, MyAT, MyCSys, MyAng)\n",
    "# 时间步\n",
    "ret = SapModel.LoadCases.DirHistLinear.SetTimeStep(\"DHISTB1\", 40, 0.25)\n",
    "# 阻尼"
   ]
  },
  {
   "cell_type": "code",
   "execution_count": 101,
   "id": "9496b3bb-e747-43ac-9c79-a9be048e78e5",
   "metadata": {},
   "outputs": [],
   "source": [
    "# 线性直接积分时程分析\n",
    "ret = SapModel.LoadCases.DirHistLinear.SetCase(\"DHISTB2\")\n",
    "# 定义数组参数\n",
    "# 施加荷载\n",
    "numbers_loads = 1 # 一个荷载项\n",
    "MyLoadType = ['LOAD'] # 荷载类型\n",
    "MyLoadName = ['P'] # 荷载模式名\n",
    "MyFunc = ['TH-2']\n",
    "MySF = [1.0] # 比例系数\n",
    "MyTF = [1] # 时间系数\n",
    "MyAT = [0] # 到达时间\n",
    "# 只有当MyLoadType为Accel时才生效\n",
    "MyCSys = [' '] # 空字符串，默认全局坐标\n",
    "MyAng = [0.0] # 加速度方向角\n",
    "\n",
    "ret = SapModel.LoadCases.DirHistLinear.SetLoads(\"DHISTB2\", 1, MyLoadType, MyLoadName, MyFunc, MySF, MyTF, MyAT, MyCSys, MyAng)\n",
    "# 时间步\n",
    "ret = SapModel.LoadCases.DirHistLinear.SetTimeStep(\"DHISTB2\", 4000, 2.5E-3)\n",
    "# 阻尼\n"
   ]
  },
  {
   "cell_type": "code",
   "execution_count": 100,
   "id": "24954e72-e1ca-4269-9c40-6671156d4a8c",
   "metadata": {},
   "outputs": [],
   "source": [
    "# 线性直接积分时程分析\n",
    "ret = SapModel.LoadCases.DirHistLinear.SetCase(\"DHISTC1\")\n",
    "# 定义数组参数\n",
    "# 施加荷载\n",
    "numbers_loads = 1 # 一个荷载项\n",
    "MyLoadType = ['LOAD'] # 荷载类型\n",
    "MyLoadName = ['P'] # 荷载模式名\n",
    "MyFunc = ['TH-2']\n",
    "MySF = [1.0] # 比例系数\n",
    "MyTF = [1] # 时间系数\n",
    "MyAT = [0] # 到达时间\n",
    "# 只有当MyLoadType为Accel时才生效\n",
    "MyCSys = [' '] # 空字符串，默认全局坐标\n",
    "MyAng = [0.0] # 加速度方向角\n",
    "\n",
    "ret = SapModel.LoadCases.DirHistLinear.SetLoads(\"DHISTC1\", 1, MyLoadType, MyLoadName, MyFunc, MySF, MyTF, MyAT, MyCSys, MyAng)\n",
    "# 时间步\n",
    "ret = SapModel.LoadCases.DirHistLinear.SetTimeStep(\"DHISTC1\", 40, 0.25)\n",
    "# 阻尼\n",
    "ret = SapModel.LoadCases.DirHistLinear.SetDampProportional(\"DHISTC1\", 1,3.0312, 0.2412, 0, 0, 0, 0)\n"
   ]
  },
  {
   "cell_type": "code",
   "execution_count": 98,
   "id": "525a4b93-3786-4c4d-ac61-69e50d344c2c",
   "metadata": {},
   "outputs": [],
   "source": [
    "#save model\n",
    "ret = SapModel.File.Save(ModelPath)"
   ]
  },
  {
   "cell_type": "code",
   "execution_count": null,
   "id": "6d7f9c4d-c897-4533-b0a4-d008109f04fb",
   "metadata": {},
   "outputs": [],
   "source": []
  }
 ],
 "metadata": {
  "kernelspec": {
   "display_name": "Python 3 (ipykernel)",
   "language": "python",
   "name": "python3"
  },
  "language_info": {
   "codemirror_mode": {
    "name": "ipython",
    "version": 3
   },
   "file_extension": ".py",
   "mimetype": "text/x-python",
   "name": "python",
   "nbconvert_exporter": "python",
   "pygments_lexer": "ipython3",
   "version": "3.10.11"
  }
 },
 "nbformat": 4,
 "nbformat_minor": 5
}
