{
 "cells": [
  {
   "cell_type": "code",
   "execution_count": 1,
   "id": "22157f26-9c72-4b11-bf38-32a84cdb3375",
   "metadata": {},
   "outputs": [],
   "source": [
    "import os\n",
    "import sys\n",
    "import comtypes.client"
   ]
  },
  {
   "cell_type": "code",
   "execution_count": 2,
   "id": "97860eeb-9cee-4738-a1c1-1ae92c7e2488",
   "metadata": {},
   "outputs": [],
   "source": [
    "# False,表示脚本将启动一个新的sap2000实例，而不是连接已有的。-- False方案好像已失效，以后自动手动打开软件后，用True方案。\n",
    "# AttachToInstance = False\n",
    "AttachToInstance = True\n",
    "# True则可以手动指定sap2000的安装路径，False则不会执行安装路径的代码，而会自动打开最新安装的sap2000版本。\n",
    "SpecifyPath = True\n",
    "ProgramPath = r'C:\\Program Files\\Computers and Structures\\SAP2000 22\\SAP2000.exe'\n",
    "# 设置模型文件的保存路径。\n",
    "APIPath = r'C:\\Users\\Administrator\\Desktop\\SAP'\n",
    "if not os.path.exists(APIPath): # 如果不存在，则创建\n",
    "    try:\n",
    "        os.makedirs(APIPath)\n",
    "    except OSError:\n",
    "        pass\n",
    "# 拼接，os.sep: 操作系统的分隔符（在windows下是 \\\n",
    "ModelPath = APIPath + os.sep + 'API_6-001.sdb'\n",
    "if AttachToInstance:\n",
    "    #attach to a running instance of SAP2000\n",
    "    # 连接到已打开SAP2000实例\n",
    "    try:\n",
    "        #get the active SapObject\n",
    "        # 尝试获取当前正在运行的SAP2000实例的对象，\"CSI.SAP2000.API.SapObject\"是SAP2000在系统注册表中的COM接口名。\n",
    "        mySapObject = comtypes.client.GetActiveObject(\"CSI.SAP2000.API.SapObject\")\n",
    "    except (OSError, comtypes.COMError):\n",
    "        print(\"No running instance of the program found or failed to attach.\")\n",
    "        sys.exit(-1)\n",
    "else:\n",
    "    #create API helper object\n",
    "    # 创建一个新的实例\n",
    "    # 'SAP2000v22.Helper' SAP2000提供的COM辅助类，用来启动主程序、创建对象等。\n",
    "    helper = comtypes.client.CreateObject('SAP2000v22.Helper')\n",
    "    # 调用QueryInterface将对象转换为具体的cHelper接口，这样才能使用其中定义的方法。\n",
    "    helper = helper.QueryInterface(comtypes.gen.SAP2000v1.cHelper)\n",
    "    if SpecifyPath:\n",
    "        try:\n",
    "            #'create an instance of the SAPObject from the specified path\n",
    "            mySapObject = helper.CreateObject(ProgramPath)\n",
    "        except (OSError, comtypes.COMError):\n",
    "            print(\"Cannot start a new instance of the program from \" + ProgramPath)\n",
    "            sys.exit(-1)\n",
    "    else:\n",
    "        try:\n",
    "            #create an instance of the SAPObject from the latest installed SAP2000\n",
    "            mySapObject = helper.CreateObjectProgID(\"CSI.SAP2000.API.SapObject\")\n",
    "        except (OSError, comtypes.COMError):\n",
    "            print(\"Cannot start a new instance of the program.\")\n",
    "            sys.exit(-1)\n",
    "        #start SAP2000 application\n",
    "        mySapObject.ApplicationStart()\n"
   ]
  },
  {
   "cell_type": "code",
   "execution_count": 3,
   "id": "9be87a83-66ad-47c5-b2b6-1c10c1207538",
   "metadata": {},
   "outputs": [],
   "source": [
    "#create SapModel object\n",
    "# 从SAP2000主对象中提取出SapModel，这是所有结构建模操作的核心对象，之后定义节点、杆件、荷载等操作都通过它来进行。\n",
    "SapModel = mySapObject.SapModel"
   ]
  },
  {
   "cell_type": "code",
   "execution_count": 26,
   "id": "465a6659-1a3a-44b5-a100-051b0a67376b",
   "metadata": {},
   "outputs": [
    {
     "data": {
      "text/plain": [
       "0"
      ]
     },
     "execution_count": 26,
     "metadata": {},
     "output_type": "execute_result"
    }
   ],
   "source": [
    "#initialize model\n",
    "SapModel.InitializeNewModel()"
   ]
  },
  {
   "cell_type": "code",
   "execution_count": 27,
   "id": "be1b97ff-76c9-4917-af98-317efd0c55bb",
   "metadata": {},
   "outputs": [],
   "source": [
    "#create new blank model\n",
    "ret = SapModel.File.NewBlank()"
   ]
  },
  {
   "cell_type": "code",
   "execution_count": 28,
   "id": "26b3e42a-a407-4ff2-9b4b-ac2b7b51102e",
   "metadata": {},
   "outputs": [],
   "source": [
    "#switch to k-ft units\n",
    "kip_ft_F = 4\n",
    "ret = SapModel.SetPresentUnits(kip_ft_F)"
   ]
  },
  {
   "cell_type": "code",
   "execution_count": 14,
   "id": "037ff68a-1e69-42f8-af2a-c8c36b42cc0b",
   "metadata": {},
   "outputs": [],
   "source": [
    "#add frame object by coordinates\n",
    "LinkName1 = ' '\n",
    "# 创建link，False是连接两单，否则单点\n",
    "[LinkName1, ret] = SapModel.LinkObj.AddByCoord(0, 0, 0,0,0,0, LinkName1,True, 'R1', '1', 'Global')"
   ]
  },
  {
   "cell_type": "code",
   "execution_count": 71,
   "id": "4a397eac-0107-43f4-ad2b-30128d625856",
   "metadata": {},
   "outputs": [
    {
     "data": {
      "text/plain": [
       "0"
      ]
     },
     "execution_count": 71,
     "metadata": {},
     "output_type": "execute_result"
    }
   ],
   "source": [
    "# link属性 damper类型\n",
    "MyDOF = [0]*6\n",
    "MyFixed = [0]*6\n",
    "MyNonLinear = [0]*6\n",
    "MyKe = [0]*6 # 链接属性的有效刚度项的数组，有效刚度适用于线性分析\n",
    "MyCe = [0]*6\n",
    "MyK = [0]*6 # 链接属性的初始刚度项数组，初始刚度适用于非线性分析\n",
    "MyC = [0]*6 # 非线性阻尼\n",
    "MyCexp = [0]*6\n",
    "\n",
    "MyDOF[0] = True\n",
    "MyNonLinear[0] = True\n",
    "# 非线性分析\n",
    "MyK[0] = 10000\n",
    "MyC[0]= 1\n",
    "MyCexp[0]= 1\n",
    "\n",
    "ret = SapModel.PropLink.SetDamper(\"D1\", MyDOF, MyFixed, MyNonLinear, MyKe, MyCe, MyK, MyC, MyCexp, 1, 0)\n",
    "\n",
    "ret = SapModel.PropLink.SetSpringData(\"D1\", 1, 1)\n",
    "ret"
   ]
  },
  {
   "cell_type": "code",
   "execution_count": 73,
   "id": "58ceaeb4-c222-46f3-a649-8d64b6ba2855",
   "metadata": {},
   "outputs": [
    {
     "data": {
      "text/plain": [
       "0"
      ]
     },
     "execution_count": 73,
     "metadata": {},
     "output_type": "execute_result"
    }
   ],
   "source": [
    "# Link属性linear类型 DOF 自由方向矩阵、Fixed 固定、Ke刚度、Ce阻尼。\n",
    "DOF = [0]*6\n",
    "Fixed = [0]*6\n",
    "Ke = [0]*6\n",
    "Ce = [0]*6\n",
    "DOF[0] = True\n",
    "Ke[0] = 100\n",
    "ret = SapModel.PropLink.SetLinear(\"L1\", DOF, Fixed, Ke, Ce, 0, 0)\n",
    "ret\n",
    "ret = SapModel.PropLink.SetSpringData(\"L1\", 1, 1)\n",
    "ret"
   ]
  },
  {
   "cell_type": "code",
   "execution_count": 93,
   "id": "2d035f49-a202-414a-9468-a0c5ee255a3c",
   "metadata": {},
   "outputs": [],
   "source": [
    "#add frame object by coordinates\n",
    "LinkName1 = ' '\n",
    "# 创建link，False是连接两单，否则单点并忽略第二个坐标,并设置连接属性，\n",
    "[LinkName1, ret] = SapModel.LinkObj.AddByCoord(0, 0, 0, 0, 0, 10, LinkName1,True,PropName=\"L1\")"
   ]
  },
  {
   "cell_type": "code",
   "execution_count": 94,
   "id": "6936362e-9223-4282-87aa-b29bad40cc30",
   "metadata": {},
   "outputs": [
    {
     "data": {
      "text/plain": [
       "0"
      ]
     },
     "execution_count": 94,
     "metadata": {},
     "output_type": "execute_result"
    }
   ],
   "source": [
    "#add frame object by coordinates\n",
    "LinkName2 = ' '\n",
    "# 创建link，False是连接两点连接，否则单点\n",
    "[LinkName2, ret] = SapModel.LinkObj.AddByCoord(0, 0, 0, 0, 0, 10, LinkName2,True,PropName=\"D1\")\n",
    "ret\n"
   ]
  },
  {
   "cell_type": "code",
   "execution_count": 89,
   "id": "d06d207f-6953-49e2-b84d-b87b85e5a642",
   "metadata": {},
   "outputs": [],
   "source": [
    "# 定义时程函数\n",
    "ret = SapModel.Func.FuncTH.SetSine(\"SINE\", 0.6283, 100, 41, 1)\n"
   ]
  },
  {
   "cell_type": "code",
   "execution_count": 90,
   "id": "e40f0af6-80a9-4df9-99d6-84350b570e4c",
   "metadata": {},
   "outputs": [],
   "source": [
    "# 添加一个工况模式，\n",
    "ret = SapModel.LoadPatterns.Add(\"1\",8)\n"
   ]
  },
  {
   "cell_type": "code",
   "execution_count": 108,
   "id": "40aa84ff-39ea-4b6a-9103-c316bdb2296a",
   "metadata": {},
   "outputs": [
    {
     "data": {
      "text/plain": [
       "[(0.0, 0.0, 10.0, 0.0, 0.0, 0.0), 0]"
      ]
     },
     "execution_count": 108,
     "metadata": {},
     "output_type": "execute_result"
    }
   ],
   "source": [
    "# 给节点添加荷载\n",
    "value = [0]*6\n",
    "value[2]=10\n",
    "ret = SapModel.PointObj.SetLoadForce(\"1\", \"1\", value)\n",
    "ret"
   ]
  },
  {
   "cell_type": "code",
   "execution_count": 109,
   "id": "1945f84e-d3dd-4ef5-8ae6-2b43f5d98671",
   "metadata": {},
   "outputs": [
    {
     "data": {
      "text/plain": [
       "[(0.0, 0.0, 1.0, 0.0, 0.0, 0.0), 0]"
      ]
     },
     "execution_count": 109,
     "metadata": {},
     "output_type": "execute_result"
    }
   ],
   "source": [
    "# 给节点添加质量\n",
    "mass = [0]*6\n",
    "mass[2] = 1 # u3方向加质量\n",
    "ret = SapModel.PointObj.SetMass(\"1\",mass) # True 覆盖 False 叠加\n",
    "ret"
   ]
  },
  {
   "cell_type": "code",
   "execution_count": 110,
   "id": "b713e2b1-c705-4eb0-b29a-8e504f21f8c8",
   "metadata": {},
   "outputs": [
    {
     "data": {
      "text/plain": [
       "0"
      ]
     },
     "execution_count": 110,
     "metadata": {},
     "output_type": "execute_result"
    }
   ],
   "source": [
    "# 模态工况\n",
    "ret = SapModel.LoadCases.ModalEigen.SetCase(\"MODAL\")\n",
    "ret"
   ]
  },
  {
   "cell_type": "code",
   "execution_count": 114,
   "id": "175254fd-3808-45a8-b6c9-ab9efc09b373",
   "metadata": {},
   "outputs": [],
   "source": [
    "ret = SapModel.LoadCases.ModHistNonlinear.SetCase(\"NLMHIST1\")\n",
    "# 定义数组参数\n",
    "# 施加荷载\n",
    "numbers_loads = 1 # 一个荷载项\n",
    "MyLoadType = ['LOAD'] # 荷载类型\n",
    "MyLoadName = ['1'] # 荷载模式名\n",
    "MyFunc = ['SINE']\n",
    "MySF = [1.0] # 比例系数\n",
    "MyTF = [1] # 时间系数\n",
    "MyAT = [0] # 到达时间\n",
    "# 只有当MyLoadType为Accel时才生效\n",
    "MyCSys = [' '] # 空字符串，默认全局坐标\n",
    "MyAng = [0.0] # 加速度方向角\n",
    "\n",
    "ret = SapModel.LoadCases.ModHistNonlinear.SetLoads(\"NLMHIST1\", 1, MyLoadType, MyLoadName, MyFunc, MySF, MyTF, MyAT, MyCSys, MyAng)\n",
    "# 时间步\n",
    "ret = SapModel.LoadCases.ModHistNonlinear.SetTimeStep(\"NLMHIST1\", 2550, 0.01)\n",
    "# 阻尼\n",
    "ret = SapModel.LoadCases.ModHistNonlinear.SetDampConstant(\"NLMHIST1\", 0)"
   ]
  },
  {
   "cell_type": "code",
   "execution_count": 116,
   "id": "0764cb07-15b5-4a7c-a49a-d3cd14290708",
   "metadata": {},
   "outputs": [],
   "source": [
    "ret = SapModel.LoadCases.DirHistNonlinear.SetCase(\"NLDHIST1\")\n",
    "# 定义数组参数\n",
    "# 施加荷载\n",
    "numbers_loads = 1 # 一个荷载项\n",
    "MyLoadType = ['LOAD'] # 荷载类型\n",
    "MyLoadName = ['1'] # 荷载模式名\n",
    "MyFunc = ['SINE']\n",
    "MySF = [1.0] # 比例系数\n",
    "MyTF = [1] # 时间系数\n",
    "MyAT = [0] # 到达时间\n",
    "# 只有当MyLoadType为Accel时才生效\n",
    "MyCSys = [' '] # 空字符串，默认全局坐标\n",
    "MyAng = [0.0] # 加速度方向角\n",
    "\n",
    "ret = SapModel.LoadCases.DirHistNonlinear.SetLoads(\"NLDHIST1\", 1, MyLoadType, MyLoadName, MyFunc, MySF, MyTF, MyAT, MyCSys, MyAng)\n",
    "# 时间步\n",
    "ret = SapModel.LoadCases.DirHistNonlinear.SetTimeStep(\"NLDHIST1\", 2550, 0.01)\n",
    "\n"
   ]
  },
  {
   "cell_type": "code",
   "execution_count": null,
   "id": "cb39ffee-790b-4149-9928-ba263a0c9374",
   "metadata": {},
   "outputs": [],
   "source": []
  }
 ],
 "metadata": {
  "kernelspec": {
   "display_name": "Python 3 (ipykernel)",
   "language": "python",
   "name": "python3"
  },
  "language_info": {
   "codemirror_mode": {
    "name": "ipython",
    "version": 3
   },
   "file_extension": ".py",
   "mimetype": "text/x-python",
   "name": "python",
   "nbconvert_exporter": "python",
   "pygments_lexer": "ipython3",
   "version": "3.10.11"
  }
 },
 "nbformat": 4,
 "nbformat_minor": 5
}
