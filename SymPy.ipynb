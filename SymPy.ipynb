{
  "nbformat": 4,
  "nbformat_minor": 0,
  "metadata": {
    "colab": {
      "provenance": [],
      "gpuType": "T4",
      "authorship_tag": "ABX9TyNSxrT8EGPgPHpxogras4Gl",
      "include_colab_link": true
    },
    "kernelspec": {
      "name": "python3",
      "display_name": "Python 3"
    },
    "language_info": {
      "name": "python"
    },
    "accelerator": "GPU"
  },
  "cells": [
    {
      "cell_type": "markdown",
      "metadata": {
        "id": "view-in-github",
        "colab_type": "text"
      },
      "source": [
        "<a href=\"https://colab.research.google.com/github/Sunsgrade/cae-auto/blob/main/SymPy.ipynb\" target=\"_parent\"><img src=\"https://colab.research.google.com/assets/colab-badge.svg\" alt=\"Open In Colab\"/></a>"
      ]
    },
    {
      "cell_type": "code",
      "execution_count": null,
      "metadata": {
        "id": "bCQNN-cwV-R8",
        "colab": {
          "base_uri": "https://localhost:8080/",
          "height": 39
        },
        "outputId": "2e06d902-f867-46e7-f586-9ef73881522b"
      },
      "outputs": [
        {
          "output_type": "execute_result",
          "data": {
            "text/plain": [
              "x + 2*y"
            ],
            "text/latex": "$\\displaystyle x + 2 y$"
          },
          "metadata": {},
          "execution_count": 13
        }
      ],
      "source": [
        "from sympy import *\n",
        "x,y = symbols('x y')\n",
        "expr = x+2*y\n",
        "expr\n"
      ]
    },
    {
      "cell_type": "code",
      "source": [
        "expr-x"
      ],
      "metadata": {
        "colab": {
          "base_uri": "https://localhost:8080/",
          "height": 39
        },
        "id": "Bam8fqFfXeWK",
        "outputId": "212fba46-9381-4121-d069-a0ff51769565"
      },
      "execution_count": null,
      "outputs": [
        {
          "output_type": "execute_result",
          "data": {
            "text/plain": [
              "2*y"
            ],
            "text/latex": "$\\displaystyle 2 y$"
          },
          "metadata": {},
          "execution_count": 3
        }
      ]
    },
    {
      "cell_type": "code",
      "source": [
        "sqrt(8)"
      ],
      "metadata": {
        "colab": {
          "base_uri": "https://localhost:8080/",
          "height": 38
        },
        "id": "W0psuMGzYfGH",
        "outputId": "0f7dee98-ce4e-4cf5-9423-45056ec53d94"
      },
      "execution_count": null,
      "outputs": [
        {
          "output_type": "execute_result",
          "data": {
            "text/plain": [
              "2*sqrt(2)"
            ],
            "text/latex": "$\\displaystyle 2 \\sqrt{2}$"
          },
          "metadata": {},
          "execution_count": 14
        }
      ]
    },
    {
      "cell_type": "markdown",
      "source": [
        "除了像 x-x = 0 or 8的根号这样简单的式子，sympy不会进行自动化简，因为不同的形式都有用"
      ],
      "metadata": {
        "id": "_DWRE6jdXjfS"
      }
    },
    {
      "cell_type": "code",
      "source": [
        "x*expr"
      ],
      "metadata": {
        "colab": {
          "base_uri": "https://localhost:8080/",
          "height": 39
        },
        "id": "8utoBhSrYNwo",
        "outputId": "8620fe4a-4b32-4f20-c42d-70f5e100f7aa"
      },
      "execution_count": null,
      "outputs": [
        {
          "output_type": "execute_result",
          "data": {
            "text/plain": [
              "x*(x + 2*y)"
            ],
            "text/latex": "$\\displaystyle x \\left(x + 2 y\\right)$"
          },
          "metadata": {},
          "execution_count": 7
        }
      ]
    },
    {
      "cell_type": "code",
      "source": [
        "expand_expr = expand(x*expr) # 展开式子\n",
        "expr_f = factor(expand_expr) # 合并式子\n",
        "display(expand_expr,expr_f)\n"
      ],
      "metadata": {
        "colab": {
          "base_uri": "https://localhost:8080/",
          "height": 60
        },
        "id": "FL3jimbYY0lb",
        "outputId": "35254554-3888-40c0-f285-4329fbe4eb3a"
      },
      "execution_count": null,
      "outputs": [
        {
          "output_type": "display_data",
          "data": {
            "text/plain": [
              "x**2 + 2*x*y"
            ],
            "text/latex": "$\\displaystyle x^{2} + 2 x y$"
          },
          "metadata": {}
        },
        {
          "output_type": "display_data",
          "data": {
            "text/plain": [
              "x*(x + 2*y)"
            ],
            "text/latex": "$\\displaystyle x \\left(x + 2 y\\right)$"
          },
          "metadata": {}
        }
      ]
    },
    {
      "cell_type": "code",
      "source": [
        "x,t,z,nu = symbols('x t z nu')\n",
        "init_printing(use_unicode=True)\n",
        "diff(sin(x)*exp(x),x) # 对x求导"
      ],
      "metadata": {
        "colab": {
          "base_uri": "https://localhost:8080/",
          "height": 39
        },
        "id": "woaiS5M5ZS6c",
        "outputId": "43b7cfb4-cf68-4961-faef-475ad9867286"
      },
      "execution_count": null,
      "outputs": [
        {
          "output_type": "execute_result",
          "data": {
            "text/plain": [
              " x           x       \n",
              "ℯ ⋅sin(x) + ℯ ⋅cos(x)"
            ],
            "text/latex": "$\\displaystyle e^{x} \\sin{\\left(x \\right)} + e^{x} \\cos{\\left(x \\right)}$"
          },
          "metadata": {},
          "execution_count": 17
        }
      ]
    },
    {
      "cell_type": "code",
      "source": [
        "integrate(exp(x)*sin(x)+exp(x)*cos(x),x) # 求不定积分\n"
      ],
      "metadata": {
        "colab": {
          "base_uri": "https://localhost:8080/",
          "height": 39
        },
        "id": "eDbhU6EnaXU-",
        "outputId": "1b88d038-809e-4837-9916-f58777ae521e"
      },
      "execution_count": null,
      "outputs": [
        {
          "output_type": "execute_result",
          "data": {
            "text/plain": [
              " x       \n",
              "ℯ ⋅sin(x)"
            ],
            "text/latex": "$\\displaystyle e^{x} \\sin{\\left(x \\right)}$"
          },
          "metadata": {},
          "execution_count": 16
        }
      ]
    },
    {
      "cell_type": "code",
      "source": [
        "integrate(sin(x**2), (x, -oo, oo)) # 求定积分"
      ],
      "metadata": {
        "colab": {
          "base_uri": "https://localhost:8080/",
          "height": 55
        },
        "id": "XQZ7WIxcaj80",
        "outputId": "c763829c-45de-4278-c2ab-52612bbb4ec0"
      },
      "execution_count": null,
      "outputs": [
        {
          "output_type": "execute_result",
          "data": {
            "text/plain": [
              "√2⋅√π\n",
              "─────\n",
              "  2  "
            ],
            "text/latex": "$\\displaystyle \\frac{\\sqrt{2} \\sqrt{\\pi}}{2}$"
          },
          "metadata": {},
          "execution_count": 18
        }
      ]
    },
    {
      "cell_type": "code",
      "source": [
        "limit(sin(x)/x, x, 0) # 求极限"
      ],
      "metadata": {
        "colab": {
          "base_uri": "https://localhost:8080/",
          "height": 37
        },
        "id": "cKR27NR1bYrn",
        "outputId": "019d89a3-466f-408f-fbef-b112b51a2786"
      },
      "execution_count": null,
      "outputs": [
        {
          "output_type": "execute_result",
          "data": {
            "text/plain": [
              "1"
            ],
            "text/latex": "$\\displaystyle 1$"
          },
          "metadata": {},
          "execution_count": 19
        }
      ]
    },
    {
      "cell_type": "code",
      "source": [
        "solve(x**2 - 2, x) # 解方程"
      ],
      "metadata": {
        "colab": {
          "base_uri": "https://localhost:8080/",
          "height": 47
        },
        "id": "w5PqmzPqbtnY",
        "outputId": "40aaad38-0fd0-44b9-c2c2-cc7333007a4b"
      },
      "execution_count": null,
      "outputs": [
        {
          "output_type": "execute_result",
          "data": {
            "text/plain": [
              "[-√2, √2]"
            ],
            "text/latex": "$\\displaystyle \\left[ - \\sqrt{2}, \\  \\sqrt{2}\\right]$"
          },
          "metadata": {},
          "execution_count": 20
        }
      ]
    },
    {
      "cell_type": "code",
      "source": [
        "# 解微分方程\n",
        "y = Function('y')\n",
        "dsolve(Eq(y(t).diff(t, t) - y(t), exp(t)), y(t))"
      ],
      "metadata": {
        "colab": {
          "base_uri": "https://localhost:8080/",
          "height": 58
        },
        "id": "_o9AiKOEbyCe",
        "outputId": "31c85750-6d32-4ec6-871e-5d23bde80455"
      },
      "execution_count": null,
      "outputs": [
        {
          "output_type": "execute_result",
          "data": {
            "text/plain": [
              "           -t   ⎛     t⎞  t\n",
              "y(t) = C₂⋅ℯ   + ⎜C₁ + ─⎟⋅ℯ \n",
              "                ⎝     2⎠   "
            ],
            "text/latex": "$\\displaystyle y{\\left(t \\right)} = C_{2} e^{- t} + \\left(C_{1} + \\frac{t}{2}\\right) e^{t}$"
          },
          "metadata": {},
          "execution_count": 22
        }
      ]
    },
    {
      "cell_type": "code",
      "source": [
        "\n",
        "x,t,m,f,L,I,n,w = symbols('x t m f L I n w')\n",
        "qn,qm,wn,wm = symbols('q_{n} q_{m} w_{n} w_{m}')\n",
        "un = Function(f'u_{n}')(x,t)\n",
        "um = Function(f'u_{m}')(x,t)\n",
        "fn = Function(f'f_{I},{n}')(x,t)\n",
        "fm = Function(f'f_{I},{m}')(x,t)\n",
        "mx = Function(m)(x)\n",
        "eq1=Eq(Integral(um*fn,(x,0,L)),Integral(un*fm,(x,0,L)))\n",
        "phi_n = Function(f'phi_{n}')(x)\n",
        "phi_m = Function(f'phi_{m}')(x)\n",
        "eq2 = Eq(un,phi_n*qn*sin(wn*t))\n",
        "eq3 = Eq(um,phi_m*qm*sin(wm*t))\n",
        "eq4 = Eq(fn,mx*wn**2*phi_n*qn*sin(wn*t))\n",
        "eq5 = Eq(fn,mx*wm**2*phi_m*qm*sin(wm*t))\n",
        "eq6 = Eq(Integral(eq3.rhs*eq4.rhs,(x,0,L)),Integral(eq2.rhs*eq5.rhs,(x,0,L)))\n",
        "eq7 = simplify(factor(eq6.lhs-eq6.rhs))\n",
        "display(eq1,eq2,eq3,eq4,eq5,eq6,eq7,phi_n,phi_m,qm)"
      ],
      "metadata": {
        "colab": {
          "base_uri": "https://localhost:8080/",
          "height": 357
        },
        "id": "nXt0ouRgb6d6",
        "outputId": "415d68f0-e116-453f-ec2b-0a8bcaeba02f"
      },
      "execution_count": null,
      "outputs": [
        {
          "output_type": "display_data",
          "data": {
            "text/plain": [
              "L                           L                        \n",
              "⌠                           ⌠                        \n",
              "⎮ f_I,n(x, t)⋅uₘ(x, t) dx = ⎮ f_I,m(x, t)⋅uₙ(x, t) dx\n",
              "⌡                           ⌡                        \n",
              "0                           0                        "
            ],
            "text/latex": "$\\displaystyle \\int\\limits_{0}^{L} f_{I,n}{\\left(x,t \\right)} u_{m}{\\left(x,t \\right)}\\, dx = \\int\\limits_{0}^{L} f_{I,m}{\\left(x,t \\right)} u_{n}{\\left(x,t \\right)}\\, dx$"
          },
          "metadata": {}
        },
        {
          "output_type": "display_data",
          "data": {
            "text/plain": [
              "uₙ(x, t) = q_{n}⋅φₙ(x)⋅sin(t⋅w_{n})"
            ],
            "text/latex": "$\\displaystyle u_{n}{\\left(x,t \\right)} = q_{n} \\phi_{n}{\\left(x \\right)} \\sin{\\left(t w_{n} \\right)}$"
          },
          "metadata": {}
        },
        {
          "output_type": "display_data",
          "data": {
            "text/plain": [
              "uₘ(x, t) = q_{m}⋅φₘ(x)⋅sin(t⋅w_{m})"
            ],
            "text/latex": "$\\displaystyle u_{m}{\\left(x,t \\right)} = q_{m} \\phi_{m}{\\left(x \\right)} \\sin{\\left(t w_{m} \\right)}$"
          },
          "metadata": {}
        },
        {
          "output_type": "display_data",
          "data": {
            "text/plain": [
              "                         2                        \n",
              "f_I,n(x, t) = q_{n}⋅w_{n} ⋅m(x)⋅φₙ(x)⋅sin(t⋅w_{n})"
            ],
            "text/latex": "$\\displaystyle f_{I,n}{\\left(x,t \\right)} = q_{n} w_{n}^{2} m{\\left(x \\right)} \\phi_{n}{\\left(x \\right)} \\sin{\\left(t w_{n} \\right)}$"
          },
          "metadata": {}
        },
        {
          "output_type": "display_data",
          "data": {
            "text/plain": [
              "                         2                        \n",
              "f_I,n(x, t) = q_{m}⋅w_{m} ⋅m(x)⋅φₘ(x)⋅sin(t⋅w_{m})"
            ],
            "text/latex": "$\\displaystyle f_{I,n}{\\left(x,t \\right)} = q_{m} w_{m}^{2} m{\\left(x \\right)} \\phi_{m}{\\left(x \\right)} \\sin{\\left(t w_{m} \\right)}$"
          },
          "metadata": {}
        },
        {
          "output_type": "display_data",
          "data": {
            "text/plain": [
              "L                                                                    L         ↪\n",
              "⌠                                                                    ⌠         ↪\n",
              "⎮                  2                                                 ⎮         ↪\n",
              "⎮ q_{m}⋅q_{n}⋅w_{n} ⋅m(x)⋅φₘ(x)⋅φₙ(x)⋅sin(t⋅w_{m})⋅sin(t⋅w_{n}) dx = ⎮ q_{m}⋅q ↪\n",
              "⌡                                                                    ⌡         ↪\n",
              "0                                                                    0         ↪\n",
              "\n",
              "↪                                                          \n",
              "↪                                                          \n",
              "↪           2                                              \n",
              "↪ _{n}⋅w_{m} ⋅m(x)⋅φₘ(x)⋅φₙ(x)⋅sin(t⋅w_{m})⋅sin(t⋅w_{n}) dx\n",
              "↪                                                          \n",
              "↪                                                          "
            ],
            "text/latex": "$\\displaystyle \\int\\limits_{0}^{L} q_{m} q_{n} w_{n}^{2} m{\\left(x \\right)} \\phi_{m}{\\left(x \\right)} \\phi_{n}{\\left(x \\right)} \\sin{\\left(t w_{m} \\right)} \\sin{\\left(t w_{n} \\right)}\\, dx = \\int\\limits_{0}^{L} q_{m} q_{n} w_{m}^{2} m{\\left(x \\right)} \\phi_{m}{\\left(x \\right)} \\phi_{n}{\\left(x \\right)} \\sin{\\left(t w_{m} \\right)} \\sin{\\left(t w_{n} \\right)}\\, dx$"
          },
          "metadata": {}
        },
        {
          "output_type": "display_data",
          "data": {
            "text/plain": [
              "                                                          L                    \n",
              "            ⎛       2        2⎞                           ⌠                    \n",
              "q_{m}⋅q_{n}⋅⎝- w_{m}  + w_{n} ⎠⋅sin(t⋅w_{m})⋅sin(t⋅w_{n})⋅⎮ m(x)⋅φₘ(x)⋅φₙ(x) dx\n",
              "                                                          ⌡                    \n",
              "                                                          0                    "
            ],
            "text/latex": "$\\displaystyle q_{m} q_{n} \\left(- w_{m}^{2} + w_{n}^{2}\\right) \\sin{\\left(t w_{m} \\right)} \\sin{\\left(t w_{n} \\right)} \\int\\limits_{0}^{L} m{\\left(x \\right)} \\phi_{m}{\\left(x \\right)} \\phi_{n}{\\left(x \\right)}\\, dx$"
          },
          "metadata": {}
        },
        {
          "output_type": "display_data",
          "data": {
            "text/plain": [
              "φₙ(x)"
            ],
            "text/latex": "$\\displaystyle \\phi_{n}{\\left(x \\right)}$"
          },
          "metadata": {}
        },
        {
          "output_type": "display_data",
          "data": {
            "text/plain": [
              "φₘ(x)"
            ],
            "text/latex": "$\\displaystyle \\phi_{m}{\\left(x \\right)}$"
          },
          "metadata": {}
        },
        {
          "output_type": "display_data",
          "data": {
            "text/plain": [
              "q_{m}"
            ],
            "text/latex": "$\\displaystyle q_{m}$"
          },
          "metadata": {}
        }
      ]
    },
    {
      "cell_type": "code",
      "source": [
        "行货行行 行"
      ],
      "metadata": {
        "id": "ZZVgpGIFr7u3"
      },
      "execution_count": null,
      "outputs": []
    }
  ]
}