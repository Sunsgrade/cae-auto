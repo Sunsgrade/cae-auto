{
 "cells": [
  {
   "cell_type": "code",
   "execution_count": 5,
   "id": "16fca633-16de-4db2-886f-12ea19410085",
   "metadata": {},
   "outputs": [],
   "source": [
    "# 列表生成式\n",
    "colors = ['black','white']\n",
    "sizes = ['S','M','L']\n",
    "tshirts = [(color,size) for color in colors for size in sizes]"
   ]
  },
  {
   "cell_type": "code",
   "execution_count": 6,
   "id": "f5b97aa2-d8a1-4d49-bf4a-d6b630eb071f",
   "metadata": {},
   "outputs": [
    {
     "data": {
      "text/plain": [
       "[('black', 'S'),\n",
       " ('black', 'M'),\n",
       " ('black', 'L'),\n",
       " ('white', 'S'),\n",
       " ('white', 'M'),\n",
       " ('white', 'L')]"
      ]
     },
     "execution_count": 6,
     "metadata": {},
     "output_type": "execute_result"
    }
   ],
   "source": [
    "tshirts"
   ]
  },
  {
   "cell_type": "code",
   "execution_count": 7,
   "id": "e0d988d1-39f0-4d03-bfe6-e496d334c066",
   "metadata": {},
   "outputs": [
    {
     "name": "stdout",
     "output_type": "stream",
     "text": [
      "('black', 'S')\n",
      "('black', 'M')\n",
      "('black', 'L')\n",
      "('white', 'S')\n",
      "('white', 'M')\n",
      "('white', 'L')\n"
     ]
    }
   ],
   "source": [
    "for color in colors:\n",
    "    for size in sizes:\n",
    "        print((color,size))"
   ]
  },
  {
   "cell_type": "code",
   "execution_count": 11,
   "id": "d01c0d9a-a01b-4cae-bc9b-dae67ef83ffb",
   "metadata": {},
   "outputs": [],
   "source": [
    "\n",
    "tshirts = [(color,size) for size in sizes \n",
    "                        for color in colors ]"
   ]
  },
  {
   "cell_type": "code",
   "execution_count": 12,
   "id": "3cd5ae2b-9ab8-4738-b2c2-2d653a375388",
   "metadata": {},
   "outputs": [
    {
     "data": {
      "text/plain": [
       "[('black', 'S'),\n",
       " ('white', 'S'),\n",
       " ('black', 'M'),\n",
       " ('white', 'M'),\n",
       " ('black', 'L'),\n",
       " ('white', 'L')]"
      ]
     },
     "execution_count": 12,
     "metadata": {},
     "output_type": "execute_result"
    }
   ],
   "source": [
    "tshirts"
   ]
  },
  {
   "cell_type": "code",
   "execution_count": 18,
   "id": "37ecea9e-7583-47ad-bea2-a018e24fc467",
   "metadata": {},
   "outputs": [
    {
     "data": {
      "text/plain": [
       "(33, 64, 35, 36)"
      ]
     },
     "execution_count": 18,
     "metadata": {},
     "output_type": "execute_result"
    }
   ],
   "source": [
    "# 生成器表达式的句法跟列表推导式几乎一样,[]变()\n",
    "symbols='!@#$'\n",
    "# 生成器表达式是函数的唯一参数，不需要再加()\n",
    "tuple(ord(symbol) for symbol in symbols)\n"
   ]
  },
  {
   "cell_type": "code",
   "execution_count": 19,
   "id": "98936ec4-2876-4dca-a964-edc133dc9b72",
   "metadata": {},
   "outputs": [
    {
     "data": {
      "text/plain": [
       "array('I', [33, 64, 35, 36])"
      ]
     },
     "execution_count": 19,
     "metadata": {},
     "output_type": "execute_result"
    }
   ],
   "source": [
    "import array\n",
    "# 生成器表达式是不是函数的唯一参数，需要再加()\n",
    "array.array('I',(ord(symbol) for symbol in symbols))"
   ]
  },
  {
   "cell_type": "code",
   "execution_count": 21,
   "id": "1d94be94-456e-4f9a-a0a6-fba08bdfb99d",
   "metadata": {},
   "outputs": [
    {
     "name": "stdout",
     "output_type": "stream",
     "text": [
      "black S\n",
      "black M\n",
      "black L\n",
      "white S\n",
      "white M\n",
      "white L\n"
     ]
    }
   ],
   "source": [
    "colors = ['black','white']\n",
    "sizes = ['S','M','L']\n",
    "for tshirt in (f'{c} {s}' for c in colors\n",
    "                         for s in sizes):\n",
    "    print(tshirt)"
   ]
  },
  {
   "cell_type": "code",
   "execution_count": 22,
   "id": "66cda5e0-957f-43d4-834b-d106ea2b5d35",
   "metadata": {},
   "outputs": [],
   "source": [
    "# 元组存放记录\n",
    "lax_coordinates = (33.9425,-118.408056)\n",
    "city,year,pop,chg,area = ('Tokyo',2003,32_450,0.66,8014)\n",
    "traveler_ids = [('USA','31195855'),('BRA','CE342567'),('ESP','XDA205856')]"
   ]
  },
  {
   "cell_type": "code",
   "execution_count": 23,
   "id": "cd23ef96-5cdb-4c4c-b3d9-85373ce26b7b",
   "metadata": {},
   "outputs": [
    {
     "name": "stdout",
     "output_type": "stream",
     "text": [
      "BRA/CE342567\n",
      "ESP/XDA205856\n",
      "USA/31195855\n"
     ]
    }
   ],
   "source": [
    "for passport in sorted(traveler_ids):\n",
    "    print('%s/%s'% passport)"
   ]
  },
  {
   "cell_type": "code",
   "execution_count": 24,
   "id": "b4bc3d33-9d61-4434-b071-4f96c27b9793",
   "metadata": {},
   "outputs": [
    {
     "name": "stdout",
     "output_type": "stream",
     "text": [
      "USA\n",
      "BRA\n",
      "ESP\n"
     ]
    }
   ],
   "source": [
    "for country,_ in traveler_ids:\n",
    "    print(country)"
   ]
  },
  {
   "cell_type": "code",
   "execution_count": 29,
   "id": "d8d25273-b3fe-44aa-84d8-3ce5cf100a1b",
   "metadata": {},
   "outputs": [
    {
     "data": {
      "text/plain": [
       "True"
      ]
     },
     "execution_count": 29,
     "metadata": {},
     "output_type": "execute_result"
    }
   ],
   "source": [
    "# 元组用作不可变列表,内容自身不可变，但是要是引用的是可变对象，比如列表，那么元组的值就可能发生变化。\n",
    "# 长度相同的元组和列表，元组占用的内存更少。\n",
    "a = (10,'alpha',[1,2])\n",
    "b = (10,'alpha',[1,2])\n",
    "a==b"
   ]
  },
  {
   "cell_type": "code",
   "execution_count": 26,
   "id": "566d3305-b330-4265-a670-d82ee7c27b73",
   "metadata": {},
   "outputs": [],
   "source": [
    "b[-1].append(99)"
   ]
  },
  {
   "cell_type": "code",
   "execution_count": 27,
   "id": "7d427fe9-6a05-4aa7-9709-58ba45eef12b",
   "metadata": {},
   "outputs": [
    {
     "data": {
      "text/plain": [
       "False"
      ]
     },
     "execution_count": 27,
     "metadata": {},
     "output_type": "execute_result"
    }
   ],
   "source": [
    "a==b"
   ]
  },
  {
   "cell_type": "code",
   "execution_count": 28,
   "id": "651e4a49-d1af-4eb7-9d22-ddae447c5252",
   "metadata": {},
   "outputs": [
    {
     "data": {
      "text/plain": [
       "(10, 'alpha', [1, 2, 99])"
      ]
     },
     "execution_count": 28,
     "metadata": {},
     "output_type": "execute_result"
    }
   ],
   "source": [
    "b"
   ]
  },
  {
   "cell_type": "code",
   "execution_count": 30,
   "id": "f8f60a27-b65a-4a6a-9b48-d2925b94fe33",
   "metadata": {},
   "outputs": [],
   "source": [
    "# 只有值永不变的对象才是可哈希的。不可哈希的元组不能作为字典的键，也不能作为集合的元素。"
   ]
  },
  {
   "cell_type": "code",
   "execution_count": 31,
   "id": "1e833595-c032-4938-a598-a0b05938aa4f",
   "metadata": {},
   "outputs": [],
   "source": [
    "def fixed(o):\n",
    "    try:\n",
    "        hash(o)\n",
    "    except TypeError:\n",
    "        return False\n",
    "    return True"
   ]
  },
  {
   "cell_type": "code",
   "execution_count": 39,
   "id": "f195053f-db41-468b-94dd-0b8b78053b69",
   "metadata": {},
   "outputs": [],
   "source": [
    "tf = (10, 'alpha', [1, 2])\n",
    "tm = (10, 'alpha', (1, 2)) # 值固定，可哈希"
   ]
  },
  {
   "cell_type": "code",
   "execution_count": 37,
   "id": "09dd3576-2adc-4385-a858-886c4845aba8",
   "metadata": {},
   "outputs": [
    {
     "data": {
      "text/plain": [
       "False"
      ]
     },
     "execution_count": 37,
     "metadata": {},
     "output_type": "execute_result"
    }
   ],
   "source": [
    "fixed(tf)"
   ]
  },
  {
   "cell_type": "code",
   "execution_count": 38,
   "id": "9d46a7b5-ba5f-4e5d-9dbc-e0681567662c",
   "metadata": {},
   "outputs": [
    {
     "data": {
      "text/plain": [
       "True"
      ]
     },
     "execution_count": 38,
     "metadata": {},
     "output_type": "execute_result"
    }
   ],
   "source": [
    "fixed(tm)"
   ]
  },
  {
   "cell_type": "code",
   "execution_count": 7,
   "id": "5005f22f-5d00-4cab-986f-85e67d6248ff",
   "metadata": {},
   "outputs": [
    {
     "data": {
      "text/plain": [
       "33.9425"
      ]
     },
     "execution_count": 7,
     "metadata": {},
     "output_type": "execute_result"
    }
   ],
   "source": [
    "# 可迭代拆包\n",
    "lax_coordinates = (33.9425,-118.408056)\n",
    "latitude,longitude = lax_coordinates # 拆包\n",
    "latitude"
   ]
  },
  {
   "cell_type": "code",
   "execution_count": 8,
   "id": "b09c4db8-2351-42ea-bd98-c25de8b8d7c0",
   "metadata": {},
   "outputs": [
    {
     "data": {
      "text/plain": [
       "-118.408056"
      ]
     },
     "execution_count": 8,
     "metadata": {},
     "output_type": "execute_result"
    }
   ],
   "source": [
    "longitude"
   ]
  },
  {
   "cell_type": "code",
   "execution_count": 10,
   "id": "77d9bcb5-6e37-4b55-a106-57a60a19b266",
   "metadata": {},
   "outputs": [
    {
     "data": {
      "text/plain": [
       "-118.408056"
      ]
     },
     "execution_count": 10,
     "metadata": {},
     "output_type": "execute_result"
    }
   ],
   "source": [
    "# 利用拆包对调两个变量的值\n",
    "latitude,longitude = longitude,latitude\n",
    "latitude"
   ]
  },
  {
   "cell_type": "code",
   "execution_count": 11,
   "id": "9cd222ea-39ae-4c43-bbe5-4c6b02c921fc",
   "metadata": {},
   "outputs": [
    {
     "data": {
      "text/plain": [
       "(0, 2)"
      ]
     },
     "execution_count": 11,
     "metadata": {},
     "output_type": "execute_result"
    }
   ],
   "source": [
    "# 调用函数时在参数前面加一个*，利用的也是拆包。\n",
    "divmod(2,8)\n"
   ]
  },
  {
   "cell_type": "code",
   "execution_count": 13,
   "id": "f508d297-b3a3-4310-b33c-f6cf05caa28c",
   "metadata": {},
   "outputs": [
    {
     "data": {
      "text/plain": [
       "(0, 2)"
      ]
     },
     "execution_count": 13,
     "metadata": {},
     "output_type": "execute_result"
    }
   ],
   "source": [
    "t = (2,8)\n",
    "divmod(*t)"
   ]
  },
  {
   "cell_type": "code",
   "execution_count": 14,
   "id": "db8214d0-3ddc-43fd-9ee6-e23793b2b680",
   "metadata": {},
   "outputs": [
    {
     "data": {
      "text/plain": [
       "0"
      ]
     },
     "execution_count": 14,
     "metadata": {},
     "output_type": "execute_result"
    }
   ],
   "source": [
    "quotient,remainder = divmod(*t)\n",
    "quotient"
   ]
  },
  {
   "cell_type": "code",
   "execution_count": 15,
   "id": "ddc3dfa2-49d1-4867-a064-fecfde8f76f6",
   "metadata": {},
   "outputs": [
    {
     "data": {
      "text/plain": [
       "'id_rsa.pub'"
      ]
     },
     "execution_count": 15,
     "metadata": {},
     "output_type": "execute_result"
    }
   ],
   "source": [
    "import os\n",
    "_,filename = os.path.split('/home/luciano/.ssh/id_rsa.pub')\n",
    "filename"
   ]
  },
  {
   "cell_type": "code",
   "execution_count": 17,
   "id": "dab9d70f-edeb-4e0f-b7ba-890993b0bf97",
   "metadata": {},
   "outputs": [
    {
     "data": {
      "text/plain": [
       "(0, 1, [2, 3, 4])"
      ]
     },
     "execution_count": 17,
     "metadata": {},
     "output_type": "execute_result"
    }
   ],
   "source": [
    "a,b,*rest = range(5) # *获取余下的值,*并行赋值时只能用于一个变量的前缀\n",
    "a,b,rest"
   ]
  },
  {
   "cell_type": "code",
   "execution_count": 18,
   "id": "439a80dc-f407-4dde-a8c5-6200b805b18c",
   "metadata": {},
   "outputs": [
    {
     "data": {
      "text/plain": [
       "(0, [1, 2, 3], 4)"
      ]
     },
     "execution_count": 18,
     "metadata": {},
     "output_type": "execute_result"
    }
   ],
   "source": [
    "a,*rest,b = range(5)\n",
    "a,rest,b"
   ]
  },
  {
   "cell_type": "code",
   "execution_count": 19,
   "id": "8be4d4a4-11f4-4cde-ae0c-9fea053fe32b",
   "metadata": {},
   "outputs": [
    {
     "data": {
      "text/plain": [
       "(1, 2, 3, 4, (5, 6))"
      ]
     },
     "execution_count": 19,
     "metadata": {},
     "output_type": "execute_result"
    }
   ],
   "source": [
    "# 函数调用中可以多次使用 *\n",
    "def fun(a,b,c,d,*rest):\n",
    "    return a,b,c,d,rest\n",
    "fun(*[1,2],3,*range(4,7))\n"
   ]
  },
  {
   "cell_type": "code",
   "execution_count": 20,
   "id": "0d7ed267-7f26-4b52-91ec-1deabffd9a4c",
   "metadata": {},
   "outputs": [
    {
     "data": {
      "text/plain": [
       "[0, 1, 2, 3, 4]"
      ]
     },
     "execution_count": 20,
     "metadata": {},
     "output_type": "execute_result"
    }
   ],
   "source": [
    "# 定义元组、列表、字面量\n",
    "[*range(4),4]"
   ]
  },
  {
   "cell_type": "code",
   "execution_count": 21,
   "id": "f1a27841-ef3c-463d-aad7-a02426dbe99a",
   "metadata": {},
   "outputs": [
    {
     "data": {
      "text/plain": [
       "(0, 1, 2, 2)"
      ]
     },
     "execution_count": 21,
     "metadata": {},
     "output_type": "execute_result"
    }
   ],
   "source": [
    "(*range(3),2)"
   ]
  },
  {
   "cell_type": "code",
   "execution_count": 22,
   "id": "f2eca921-904e-4693-b49e-2a637e6a9f39",
   "metadata": {},
   "outputs": [
    {
     "data": {
      "text/plain": [
       "{0, 1, 2, 3, 4, 5, 6, 7}"
      ]
     },
     "execution_count": 22,
     "metadata": {},
     "output_type": "execute_result"
    }
   ],
   "source": [
    "{*range(4),4,*(5,6,7)}"
   ]
  },
  {
   "cell_type": "code",
   "execution_count": 29,
   "id": "4263222c-26c0-42a4-ac63-93c75b5706d7",
   "metadata": {},
   "outputs": [
    {
     "name": "stdout",
     "output_type": "stream",
     "text": [
      "                |  latitude | longitude\n",
      "Tokyo           |   12.0000 |   22.0000\n",
      "asyo            |   12.0000 |   66.0000\n",
      "ddfdf           |  123.0000 |   82.0000\n",
      "hhjk            |  162.0000 |  282.0000\n"
     ]
    }
   ],
   "source": [
    "# 嵌套拆包\n",
    "metro_areas = {\n",
    "    ('Tokyo','Jp',36.1,(12,22)),\n",
    "    ('asyo','df',36.2,(12,66)),\n",
    "    ('ddfdf','qw',23.1,(123,82)),\n",
    "    ('hhjk','ui',3676.1,(162,282)),\n",
    "}\n",
    "def main():\n",
    "    print(f'{\"\":15} | {\"latitude\":>9} | {\"longitude\":>9}')\n",
    "    for name,_,_, (lat,lon) in metro_areas:\n",
    "                      if lon>=0:\n",
    "                          print(f'{name:15} | {lat:9.4f} | {lon:9.4f}')\n",
    "if __name__ == '__main__':\n",
    "    main()\n",
    "                    \n",
    "                \n",
    "    \n",
    "    "
   ]
  },
  {
   "cell_type": "code",
   "execution_count": 32,
   "id": "2bf5fc0a-e57b-4fa1-a728-e3fc42d42ad0",
   "metadata": {},
   "outputs": [],
   "source": [
    "# 序列匹配模式 3.10\n",
    "def handle_command(self,message):\n",
    "    match message:\n",
    "        case ['BEEPER',frequency,times]:\n",
    "            self.beep(times,frequency)\n",
    "        case ['NECK',angle]:\n",
    "            self.rotate_neck(angle)\n",
    "        case ['LED',ident,intensity]:\n",
    "            self.leds[ident].set_brightness(ident,intensity)\n",
    "        case ['LED',ident,red,green,blue]:\n",
    "            self.leds[ident].set_color(ident,red,green,blue)\n",
    "        case _:\n",
    "            raise InvalidCommand(message)\n",
    "            "
   ]
  },
  {
   "cell_type": "code",
   "execution_count": null,
   "id": "9a420478-1751-429d-9994-eb9091b6b196",
   "metadata": {},
   "outputs": [],
   "source": []
  }
 ],
 "metadata": {
  "kernelspec": {
   "display_name": "Python 3 (ipykernel)",
   "language": "python",
   "name": "python3"
  },
  "language_info": {
   "codemirror_mode": {
    "name": "ipython",
    "version": 3
   },
   "file_extension": ".py",
   "mimetype": "text/x-python",
   "name": "python",
   "nbconvert_exporter": "python",
   "pygments_lexer": "ipython3",
   "version": "3.10.11"
  }
 },
 "nbformat": 4,
 "nbformat_minor": 5
}
