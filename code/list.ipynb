{
 "cells": [
  {
   "cell_type": "code",
   "execution_count": 5,
   "id": "16fca633-16de-4db2-886f-12ea19410085",
   "metadata": {},
   "outputs": [],
   "source": [
    "# 列表生成式\n",
    "colors = ['black','white']\n",
    "sizes = ['S','M','L']\n",
    "tshirts = [(color,size) for color in colors for size in sizes]"
   ]
  },
  {
   "cell_type": "code",
   "execution_count": 6,
   "id": "f5b97aa2-d8a1-4d49-bf4a-d6b630eb071f",
   "metadata": {},
   "outputs": [
    {
     "data": {
      "text/plain": [
       "[('black', 'S'),\n",
       " ('black', 'M'),\n",
       " ('black', 'L'),\n",
       " ('white', 'S'),\n",
       " ('white', 'M'),\n",
       " ('white', 'L')]"
      ]
     },
     "execution_count": 6,
     "metadata": {},
     "output_type": "execute_result"
    }
   ],
   "source": [
    "tshirts"
   ]
  },
  {
   "cell_type": "code",
   "execution_count": 7,
   "id": "e0d988d1-39f0-4d03-bfe6-e496d334c066",
   "metadata": {},
   "outputs": [
    {
     "name": "stdout",
     "output_type": "stream",
     "text": [
      "('black', 'S')\n",
      "('black', 'M')\n",
      "('black', 'L')\n",
      "('white', 'S')\n",
      "('white', 'M')\n",
      "('white', 'L')\n"
     ]
    }
   ],
   "source": [
    "for color in colors:\n",
    "    for size in sizes:\n",
    "        print((color,size))"
   ]
  },
  {
   "cell_type": "code",
   "execution_count": 11,
   "id": "d01c0d9a-a01b-4cae-bc9b-dae67ef83ffb",
   "metadata": {},
   "outputs": [],
   "source": [
    "\n",
    "tshirts = [(color,size) for size in sizes \n",
    "                        for color in colors ]"
   ]
  },
  {
   "cell_type": "code",
   "execution_count": 12,
   "id": "3cd5ae2b-9ab8-4738-b2c2-2d653a375388",
   "metadata": {},
   "outputs": [
    {
     "data": {
      "text/plain": [
       "[('black', 'S'),\n",
       " ('white', 'S'),\n",
       " ('black', 'M'),\n",
       " ('white', 'M'),\n",
       " ('black', 'L'),\n",
       " ('white', 'L')]"
      ]
     },
     "execution_count": 12,
     "metadata": {},
     "output_type": "execute_result"
    }
   ],
   "source": [
    "tshirts"
   ]
  },
  {
   "cell_type": "code",
   "execution_count": 18,
   "id": "37ecea9e-7583-47ad-bea2-a018e24fc467",
   "metadata": {},
   "outputs": [
    {
     "data": {
      "text/plain": [
       "(33, 64, 35, 36)"
      ]
     },
     "execution_count": 18,
     "metadata": {},
     "output_type": "execute_result"
    }
   ],
   "source": [
    "# 生成器表达式的句法跟列表推导式几乎一样,[]变()\n",
    "symbols='!@#$'\n",
    "# 生成器表达式是函数的唯一参数，不需要再加()\n",
    "tuple(ord(symbol) for symbol in symbols)\n"
   ]
  },
  {
   "cell_type": "code",
   "execution_count": 19,
   "id": "98936ec4-2876-4dca-a964-edc133dc9b72",
   "metadata": {},
   "outputs": [
    {
     "data": {
      "text/plain": [
       "array('I', [33, 64, 35, 36])"
      ]
     },
     "execution_count": 19,
     "metadata": {},
     "output_type": "execute_result"
    }
   ],
   "source": [
    "import array\n",
    "# 生成器表达式是不是函数的唯一参数，需要再加()\n",
    "array.array('I',(ord(symbol) for symbol in symbols))"
   ]
  },
  {
   "cell_type": "code",
   "execution_count": 21,
   "id": "1d94be94-456e-4f9a-a0a6-fba08bdfb99d",
   "metadata": {},
   "outputs": [
    {
     "name": "stdout",
     "output_type": "stream",
     "text": [
      "black S\n",
      "black M\n",
      "black L\n",
      "white S\n",
      "white M\n",
      "white L\n"
     ]
    }
   ],
   "source": [
    "colors = ['black','white']\n",
    "sizes = ['S','M','L']\n",
    "for tshirt in (f'{c} {s}' for c in colors\n",
    "                         for s in sizes):\n",
    "    print(tshirt)"
   ]
  },
  {
   "cell_type": "code",
   "execution_count": 22,
   "id": "66cda5e0-957f-43d4-834b-d106ea2b5d35",
   "metadata": {},
   "outputs": [],
   "source": [
    "# 元组存放记录\n",
    "lax_coordinates = (33.9425,-118.408056)\n",
    "city,year,pop,chg,area = ('Tokyo',2003,32_450,0.66,8014)\n",
    "traveler_ids = [('USA','31195855'),('BRA','CE342567'),('ESP','XDA205856')]"
   ]
  },
  {
   "cell_type": "code",
   "execution_count": 23,
   "id": "cd23ef96-5cdb-4c4c-b3d9-85373ce26b7b",
   "metadata": {},
   "outputs": [
    {
     "name": "stdout",
     "output_type": "stream",
     "text": [
      "BRA/CE342567\n",
      "ESP/XDA205856\n",
      "USA/31195855\n"
     ]
    }
   ],
   "source": [
    "for passport in sorted(traveler_ids):\n",
    "    print('%s/%s'% passport)"
   ]
  },
  {
   "cell_type": "code",
   "execution_count": 24,
   "id": "b4bc3d33-9d61-4434-b071-4f96c27b9793",
   "metadata": {},
   "outputs": [
    {
     "name": "stdout",
     "output_type": "stream",
     "text": [
      "USA\n",
      "BRA\n",
      "ESP\n"
     ]
    }
   ],
   "source": [
    "for country,_ in traveler_ids:\n",
    "    print(country)"
   ]
  },
  {
   "cell_type": "code",
   "execution_count": 29,
   "id": "d8d25273-b3fe-44aa-84d8-3ce5cf100a1b",
   "metadata": {},
   "outputs": [
    {
     "data": {
      "text/plain": [
       "True"
      ]
     },
     "execution_count": 29,
     "metadata": {},
     "output_type": "execute_result"
    }
   ],
   "source": [
    "# 元组用作不可变列表,内容自身不可变，但是要是引用的是可变对象，比如列表，那么元组的值就可能发生变化。\n",
    "# 长度相同的元组和列表，元组占用的内存更少。\n",
    "a = (10,'alpha',[1,2])\n",
    "b = (10,'alpha',[1,2])\n",
    "a==b"
   ]
  },
  {
   "cell_type": "code",
   "execution_count": 26,
   "id": "566d3305-b330-4265-a670-d82ee7c27b73",
   "metadata": {},
   "outputs": [],
   "source": [
    "b[-1].append(99)"
   ]
  },
  {
   "cell_type": "code",
   "execution_count": 27,
   "id": "7d427fe9-6a05-4aa7-9709-58ba45eef12b",
   "metadata": {},
   "outputs": [
    {
     "data": {
      "text/plain": [
       "False"
      ]
     },
     "execution_count": 27,
     "metadata": {},
     "output_type": "execute_result"
    }
   ],
   "source": [
    "a==b"
   ]
  },
  {
   "cell_type": "code",
   "execution_count": 28,
   "id": "651e4a49-d1af-4eb7-9d22-ddae447c5252",
   "metadata": {},
   "outputs": [
    {
     "data": {
      "text/plain": [
       "(10, 'alpha', [1, 2, 99])"
      ]
     },
     "execution_count": 28,
     "metadata": {},
     "output_type": "execute_result"
    }
   ],
   "source": [
    "b"
   ]
  },
  {
   "cell_type": "code",
   "execution_count": 30,
   "id": "f8f60a27-b65a-4a6a-9b48-d2925b94fe33",
   "metadata": {},
   "outputs": [],
   "source": [
    "# 只有值永不变的对象才是可哈希的。不可哈希的元组不能作为字典的键，也不能作为集合的元素。"
   ]
  },
  {
   "cell_type": "code",
   "execution_count": 31,
   "id": "1e833595-c032-4938-a598-a0b05938aa4f",
   "metadata": {},
   "outputs": [],
   "source": [
    "def fixed(o):\n",
    "    try:\n",
    "        hash(o)\n",
    "    except TypeError:\n",
    "        return False\n",
    "    return True"
   ]
  },
  {
   "cell_type": "code",
   "execution_count": 39,
   "id": "f195053f-db41-468b-94dd-0b8b78053b69",
   "metadata": {},
   "outputs": [],
   "source": [
    "tf = (10, 'alpha', [1, 2])\n",
    "tm = (10, 'alpha', (1, 2)) # 值固定，可哈希"
   ]
  },
  {
   "cell_type": "code",
   "execution_count": 37,
   "id": "09dd3576-2adc-4385-a858-886c4845aba8",
   "metadata": {},
   "outputs": [
    {
     "data": {
      "text/plain": [
       "False"
      ]
     },
     "execution_count": 37,
     "metadata": {},
     "output_type": "execute_result"
    }
   ],
   "source": [
    "fixed(tf)"
   ]
  },
  {
   "cell_type": "code",
   "execution_count": 38,
   "id": "9d46a7b5-ba5f-4e5d-9dbc-e0681567662c",
   "metadata": {},
   "outputs": [
    {
     "data": {
      "text/plain": [
       "True"
      ]
     },
     "execution_count": 38,
     "metadata": {},
     "output_type": "execute_result"
    }
   ],
   "source": [
    "fixed(tm)"
   ]
  },
  {
   "cell_type": "code",
   "execution_count": null,
   "id": "15f0f8e3-9bec-4deb-a123-988fb4b4b940",
   "metadata": {},
   "outputs": [],
   "source": []
  }
 ],
 "metadata": {
  "kernelspec": {
   "display_name": "Python 3 (ipykernel)",
   "language": "python",
   "name": "python3"
  },
  "language_info": {
   "codemirror_mode": {
    "name": "ipython",
    "version": 3
   },
   "file_extension": ".py",
   "mimetype": "text/x-python",
   "name": "python",
   "nbconvert_exporter": "python",
   "pygments_lexer": "ipython3",
   "version": "3.10.11"
  }
 },
 "nbformat": 4,
 "nbformat_minor": 5
}
